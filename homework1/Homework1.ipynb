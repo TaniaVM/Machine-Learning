{
 "cells": [
  {
   "cell_type": "markdown",
   "metadata": {},
   "source": [
    "# Task 1 (5% credit) \n",
    "Provide a definition for the concept of a conjugate prior given the Bayesian learning model. What is the conjugate prior for the univariate linear regression $y\\sim {\\cal N}(wx,\\sigma^2)$ with a fixed $\\sigma$?"
   ]
  },
  {
   "cell_type": "markdown",
   "metadata": {
    "collapsed": true
   },
   "source": [
    "The prior would be: \n",
    "$$\n",
    "w\\sim {\\cal N}(w^*,\\sigma^*)\n",
    "$$\n",
    "The conjugate prior is another distribution that helps mathematically to distribute, made with enough information in order to obtain a conjugate posterior"
   ]
  },
  {
   "cell_type": "markdown",
   "metadata": {},
   "source": [
    "# Task 2 (5% credit). \n",
    "Which prior in the Bayesian linear regression framework leads to: a) Ridge regression, b) Lasso regression?"
   ]
  },
  {
   "cell_type": "code",
   "execution_count": 9,
   "metadata": {
    "collapsed": true
   },
   "outputs": [],
   "source": [
    "#a) Ridge Regression, prior is Normal (Gaussian) Distribution"
   ]
  },
  {
   "cell_type": "code",
   "execution_count": 131,
   "metadata": {
    "collapsed": false
   },
   "outputs": [],
   "source": [
    "#b) Lasso Regression, prior is Laplace Distribution"
   ]
  },
  {
   "cell_type": "markdown",
   "metadata": {},
   "source": [
    "# Task 3 (10% credit). \n",
    "Answer some questions about the properties of Lasso/Ridge:\n",
    "\n",
    "a) Which of the Lasso and Ridge regressions possess an analytic solution in the closed form?\n",
    "\n",
    "b) Which of the Lasso and Ridge regressions often use to completely eliminate coefficients for some of the regressors?\n",
    "\n",
    "c) Which value of $\\lambda$ makes Lasso and Ridge identical to the ordinary least square regression?\n",
    "\n",
    "d) What dataset (training, validation or test) you would use to estimate the $\\lambda$ for Lasso or Ridge?"
   ]
  },
  {
   "cell_type": "code",
   "execution_count": null,
   "metadata": {
    "collapsed": true
   },
   "outputs": [],
   "source": [
    "#a) Ridge posses an analytic solution in the closed form\n",
    "#b) Lasso has that advantage\n",
    "#c) for Lambda = 0 \n",
    "#d) The validation set"
   ]
  },
  {
   "cell_type": "markdown",
   "metadata": {},
   "source": [
    "# Task 4 (15% credit). \n",
    "Consider a Bayesian univariate linear regression $y\\sim {\\cal N}(wx,\\sigma^2)$ with a given $\\sigma=1$ and the prior $w\\sim {\\cal N}(5,1)$. Compute the posterior distribution after an observation $y=12,x=2$. After all, what is the probability of having $w<5$?"
   ]
  },
  {
   "cell_type": "code",
   "execution_count": null,
   "metadata": {
    "collapsed": true
   },
   "outputs": [],
   "source": [
    "#Using Theory from class about the posterior:\n",
    "import statsmodels.api as sm\n",
    "import statsmodels.formula.api as smf\n",
    "import pymc3 as pm\n",
    "import numpy as np\n",
    "from numpy import random\n",
    "import random as rnd\n",
    "from scipy import stats\n",
    "from pandas.stats.api import ols\n",
    "import pylab\n",
    "from sklearn import linear_model"
   ]
  },
  {
   "cell_type": "markdown",
   "metadata": {},
   "source": [
    "$$\n",
    "\\sim {\\cal N}\\left(\\frac{ \\sigma^{-2} \\sum_i y_i x_i +(\\sigma^*)^{-2} w^*}{\\left(\\sum_i x_i^2\\sigma^{-2}+(\\sigma^*)^{-2}\\right)},\n",
    "\\frac{1}{\\sqrt{(\\sigma^*)^{-2}+\\sum_i x_i^2\\sigma^{-2}}}\\right)\n",
    "$$"
   ]
  },
  {
   "cell_type": "code",
   "execution_count": 21,
   "metadata": {
    "collapsed": false
   },
   "outputs": [
    {
     "name": "stdout",
     "output_type": "stream",
     "text": [
      "0.0368191350602\n"
     ]
    }
   ],
   "source": [
    "#Where sigma = 1, simga* = 1, w* = 5, xi = 2, yi = 12, i = 1 (one simple observation)\n",
    "# mu = 29/5 and sigma = 1/sqrt(5)\n",
    "#This is the probability that w<5\n",
    "print stats.norm.cdf(5.0,loc=29.0/5,scale=1/np.sqrt(5.0))"
   ]
  },
  {
   "cell_type": "markdown",
   "metadata": {},
   "source": [
    "# Task 5 (20% credit). \n",
    "For the training and test sets provided below, train a linear regression of $y$ (last column) vs the rest of the columns of the table treated as regressors (intercept excluded) over the training set, apply it to the test set and report it's R2 performance over both - training and test set."
   ]
  },
  {
   "cell_type": "code",
   "execution_count": 1,
   "metadata": {
    "collapsed": true
   },
   "outputs": [],
   "source": [
    "import pandas as pd\n",
    "data_train=pd.read_csv(\"Homework1_training.csv\")\n",
    "data_test=pd.read_csv(\"Homework1_test.csv\")"
   ]
  },
  {
   "cell_type": "code",
   "execution_count": 35,
   "metadata": {
    "collapsed": false
   },
   "outputs": [],
   "source": [
    "data_train1=pd.DataFrame({'X0':data_train['0'],'X1':data_train['1'],'X2':data_train['2'],'X3':data_train['3'],'X4':data_train['4'],'X5':data_train['5'],'X6':data_train['6'],'X7':data_train['7'],'X8':data_train['8'],'X9':data_train['9'],'X10':data_train['10'],'X11':data_train['11'],'X12':data_train['12'],'X13':data_train['13'],'X14':data_train['14'],'X15':data_train['15'],'X16':data_train['16'],'X17':data_train['17'],'X18':data_train['18'],'X19':data_train['19'],'X20':data_train['20'],'X21':data_train['21'],'X22':data_train['22'],'X23':data_train['23'],'X24':data_train['24'],'X25':data_train['25'],'X26':data_train['26'],'X27':data_train['27'],'X28':data_train['28'],'X29':data_train['29'],'X30':data_train['30'],'X31':data_train['31'],'X32':data_train['32'],'X33':data_train['33'],'X34':data_train['34'],'X35':data_train['35'],'X36':data_train['36'],'X37':data_train['37'],'X38':data_train['38'],'X39':data_train['39'],'Y':data_train['40']})\n",
    "data_test1=pd.DataFrame({'X0':data_test['0'],'X1':data_test['1'],'X2':data_test['2'],'X3':data_test['3'],'X4':data_test['4'],'X5':data_test['5'],'X6':data_test['6'],'X7':data_test['7'],'X8':data_test['8'],'X9':data_test['9'],'X10':data_test['10'],'X11':data_test['11'],'X12':data_test['12'],'X13':data_test['13'],'X14':data_test['14'],'X15':data_test['15'],'X16':data_test['16'],'X17':data_test['17'],'X18':data_test['18'],'X19':data_test['19'],'X20':data_test['20'],'X21':data_test['21'],'X22':data_test['22'],'X23':data_test['23'],'X24':data_test['24'],'X25':data_test['25'],'X26':data_test['26'],'X27':data_test['27'],'X28':data_test['28'],'X29':data_test['29'],'X30':data_test['30'],'X31':data_test['31'],'X32':data_test['32'],'X33':data_test['33'],'X34':data_test['34'],'X35':data_test['35'],'X36':data_test['36'],'X37':data_test['37'],'X38':data_test['38'],'X39':data_test['39'],'Y':data_test['40']})"
   ]
  },
  {
   "cell_type": "code",
   "execution_count": 46,
   "metadata": {
    "collapsed": false
   },
   "outputs": [
    {
     "name": "stdout",
     "output_type": "stream",
     "text": [
      "                            OLS Regression Results                            \n",
      "==============================================================================\n",
      "Dep. Variable:                      Y   R-squared:                       1.000\n",
      "Model:                            OLS   Adj. R-squared:                   -inf\n",
      "Method:                 Least Squares   F-statistic:                     0.000\n",
      "Date:                Mon, 15 Feb 2016   Prob (F-statistic):                nan\n",
      "Time:                        01:57:56   Log-Likelihood:                 124.30\n",
      "No. Observations:                  30   AIC:                            -188.6\n",
      "Df Residuals:                       0   BIC:                            -146.6\n",
      "Df Model:                          29                                         \n",
      "Covariance Type:            nonrobust                                         \n",
      "==============================================================================\n",
      "                 coef    std err          t      P>|t|      [95.0% Conf. Int.]\n",
      "------------------------------------------------------------------------------\n",
      "X0          1.798e+10        inf          0        nan           nan       nan\n",
      "X1           4.54e+09        inf          0        nan           nan       nan\n",
      "X2          5.551e+09        inf          0        nan           nan       nan\n",
      "X3           1.94e+10        inf          0        nan           nan       nan\n",
      "X4         -9.424e+10        inf         -0        nan           nan       nan\n",
      "X5           5.82e+10        inf          0        nan           nan       nan\n",
      "X6          4.621e+10        inf          0        nan           nan       nan\n",
      "X7          6.635e+10        inf          0        nan           nan       nan\n",
      "X8         -8.311e+10        inf         -0        nan           nan       nan\n",
      "X9          1.074e+11        inf          0        nan           nan       nan\n",
      "X10        -8.673e+10        inf         -0        nan           nan       nan\n",
      "X11        -2.435e+10        inf         -0        nan           nan       nan\n",
      "X12         4.637e+10        inf          0        nan           nan       nan\n",
      "X13        -1.696e+10        inf         -0        nan           nan       nan\n",
      "X14        -7.589e+10        inf         -0        nan           nan       nan\n",
      "X15        -2.844e+10        inf         -0        nan           nan       nan\n",
      "X16         8.189e+08        inf          0        nan           nan       nan\n",
      "X17         5.108e+10        inf          0        nan           nan       nan\n",
      "X18         2.984e+10        inf          0        nan           nan       nan\n",
      "X19         8.376e+10        inf          0        nan           nan       nan\n",
      "X20        -3.593e+10        inf         -0        nan           nan       nan\n",
      "X21           -0.1226        inf         -0        nan           nan       nan\n",
      "X22           -0.2124        inf         -0        nan           nan       nan\n",
      "X23            0.0807        inf          0        nan           nan       nan\n",
      "X24            0.0668        inf          0        nan           nan       nan\n",
      "X25            0.1543        inf          0        nan           nan       nan\n",
      "X26           -0.3624        inf         -0        nan           nan       nan\n",
      "X27           -0.4393        inf         -0        nan           nan       nan\n",
      "X28           -0.0315        inf         -0        nan           nan       nan\n",
      "X29            0.1614        inf          0        nan           nan       nan\n",
      "X30           -0.1466        inf         -0        nan           nan       nan\n",
      "X31           -0.0371        inf         -0        nan           nan       nan\n",
      "X32            0.0625        inf          0        nan           nan       nan\n",
      "X33           -0.1800        inf         -0        nan           nan       nan\n",
      "X34            0.0005        inf          0        nan           nan       nan\n",
      "X35           -0.3103        inf         -0        nan           nan       nan\n",
      "X36            0.0511        inf          0        nan           nan       nan\n",
      "X37           -0.1249        inf         -0        nan           nan       nan\n",
      "X38            0.2545        inf          0        nan           nan       nan\n",
      "X39            0.0022        inf          0        nan           nan       nan\n",
      "==============================================================================\n",
      "Omnibus:                        0.287   Durbin-Watson:                   0.618\n",
      "Prob(Omnibus):                  0.866   Jarque-Bera (JB):                0.470\n",
      "Skew:                           0.129   Prob(JB):                        0.790\n",
      "Kurtosis:                       2.443   Cond. No.                     3.52e+13\n",
      "==============================================================================\n",
      "\n",
      "Warnings:\n",
      "[1] Standard Errors assume that the covariance matrix of the errors is correctly specified.\n",
      "[2] The input rank is higher than the number of observations.\n",
      "[3] The smallest eigenvalue is 2.34e-21. This might indicate that there are\n",
      "strong multicollinearity problems or that the design matrix is singular.\n",
      "-4.3714943333\n"
     ]
    }
   ],
   "source": [
    "lm = smf.ols(formula = 'Y ~ X0+X1+X2+X3+X4+X5+X6+X7+X8+X9+X10+X11+X12+X13+X14+X15+X16+X17+X18+X19+X20+X21+X22+X23+X24+X25+X26+X27+X28+X29+X30+X31+X32+X33+X34+X35+X36+X37+X38+X39-1',data=data_train1).fit()\n",
    "print lm.summary()\n",
    "lmytest = data_test1.X0*lm.params.X0+data_test1.X1*lm.params.X1+data_test1.X2*lm.params.X2+data_test1.X3*lm.params.X3+data_test1.X4*lm.params.X4+data_test1.X5*lm.params.X5+data_test1.X6*lm.params.X6+data_test1.X7*lm.params.X7+data_test1.X8*lm.params.X8+data_test1.X9*lm.params.X9+data_test1.X10*lm.params.X10+data_test1.X11*lm.params.X11+data_test1.X12*lm.params.X12+data_test1.X13*lm.params.X13+data_test1.X14*lm.params.X14+data_test1.X15*lm.params.X15+data_test1.X16*lm.params.X16+data_test1.X17*lm.params.X17+data_test1.X18*lm.params.X18+data_test1.X19*lm.params.X19+data_test1.X20*lm.params.X20+data_test1.X21*lm.params.X21+data_test1.X22*lm.params.X22+data_test1.X23*lm.params.X23+data_test1.X24*lm.params.X24+data_test1.X25*lm.params.X25+data_test1.X26*lm.params.X26+data_test1.X27*lm.params.X27+data_test1.X28*lm.params.X28+data_test1.X29*lm.params.X29+data_test1.X30*lm.params.X30+data_test1.X31*lm.params.X31+data_test1.X32*lm.params.X32+data_test1.X33*lm.params.X33+data_test1.X34*lm.params.X34+data_test1.X35*lm.params.X35+data_test1.X36*lm.params.X36+data_test1.X37*lm.params.X37+data_test1.X38*lm.params.X38+data_test1.X39*lm.params.X39\n",
    "#R Squared is 1, but all Coefficients are NaN (Over Train)\n",
    "R2Test=1 - sum(pow(lmytest - data_test1.Y, 2)) / sum(pow(data_test1.Y - np.mean(data_test1.Y), 2))\n",
    "print R2Test\n",
    "#R Squares for Test is:"
   ]
  },
  {
   "cell_type": "markdown",
   "metadata": {},
   "source": [
    "# Task 6 (20% credit). \n",
    "Train Lasso and Ridge regressions using the training sample above with $\\lambda_{Ridge}=40000$ and $\\lambda_{Lasso}=40$ and report their performance over the test set."
   ]
  },
  {
   "cell_type": "code",
   "execution_count": 75,
   "metadata": {
    "collapsed": false
   },
   "outputs": [
    {
     "name": "stdout",
     "output_type": "stream",
     "text": [
      "The R-squared we found for IS (train) Ridge is: 0.915083067181\n",
      "The R-squared we found for OS (test) Ridge is: 0.513596031482\n"
     ]
    }
   ],
   "source": [
    "Ridge=linear_model.Ridge(fit_intercept=True,alpha=4000) #try Ridge with an arbitrary regularization parameter lambda=1\n",
    "X_train=data_train1.transpose()[0:40].transpose()\n",
    "y_train=data_train1['Y']\n",
    "Ridge.fit(X_train,y_train)\n",
    "# In the sample:\n",
    "p_IS=Ridge.predict(X_train)\n",
    "err_IS=p_IS-y_train\n",
    "R_2_IS_Ridge=1-np.var(err_IS)/np.var(y_train)\n",
    "print(\"The R-squared we found for IS (train) Ridge is: {0}\".format(R_2_IS_Ridge))\n",
    "\n",
    "Ridge_coef=Ridge.coef_\n",
    "############################################################################    \\\n",
    "X_test=data_test1.transpose()[0:40].transpose()\n",
    "y_test=data_test1['Y']\n",
    "#Out of sample\n",
    "p_OS=Ridge.predict(X_test)\n",
    "err_OS=p_OS-y_test\n",
    "R_2_OS_Ridge=1-np.var(err_OS)/np.var(y_test)\n",
    "print(\"The R-squared we found for OS (test) Ridge is: {0}\".format(R_2_OS_Ridge))"
   ]
  },
  {
   "cell_type": "code",
   "execution_count": 76,
   "metadata": {
    "collapsed": false
   },
   "outputs": [
    {
     "name": "stdout",
     "output_type": "stream",
     "text": [
      "The R-squared we found for IS (train) Lasso is: 0.869184621167\n",
      "The R-squared we found for OS (test) Lasso is: 0.651017438134\n"
     ]
    }
   ],
   "source": [
    "Lasso=linear_model.Lasso(fit_intercept=True,alpha=40) #try Ridge with an arbitrary regularization parameter lambda=1\n",
    "X_train=data_train1.transpose()[0:40].transpose()\n",
    "y_train=data_train1['Y']\n",
    "Lasso.fit(X_train,y_train)\n",
    "# In the sample:\n",
    "p_IS=Lasso.predict(X_train)\n",
    "err_IS=p_IS-y_train\n",
    "R_2_IS_Lasso=1-np.var(err_IS)/np.var(y_train)\n",
    "print(\"The R-squared we found for IS (train) Lasso is: {0}\".format(R_2_IS_Lasso))\n",
    "\n",
    "Lasso_coef=Lasso.coef_\n",
    "############################################################################    \\\n",
    "X_test=data_test1.transpose()[0:40].transpose()\n",
    "y_test=data_test1['Y']\n",
    "#Out of sample\n",
    "p_OS=Lasso.predict(X_test)\n",
    "err_OS=p_OS-y_test\n",
    "R_2_OS_Lasso=1-np.var(err_OS)/np.var(y_test)\n",
    "print(\"The R-squared we found for OS (test) Lasso is: {0}\".format(R_2_OS_Lasso))"
   ]
  },
  {
   "cell_type": "markdown",
   "metadata": {},
   "source": [
    "# Task 7 (25% credit). \n",
    "For each $m=1,2,...39$ train OLS, Lasso and Ridge regressions using the training sample above with $\\lambda_{Ridge}=40000$ and $\\lambda_{Lasso}=40$ using the first $m$ columns of the data tables as the regressors and plot the in-sample (training) and out-of-sample (test) R2 for all three models on the same graph."
   ]
  },
  {
   "cell_type": "code",
   "execution_count": 130,
   "metadata": {
    "collapsed": false
   },
   "outputs": [
    {
     "name": "stdout",
     "output_type": "stream",
     "text": [
      "Populating the interactive namespace from numpy and matplotlib\n"
     ]
    },
    {
     "data": {
      "image/png": "[encoded data removed]",
      "text/plain": [
       "<matplotlib.figure.Figure at 0x103db21d0>"
      ]
     },
     "metadata": {},
     "output_type": "display_data"
    },
    {
     "data": {
      "text/plain": [
       "<matplotlib.figure.Figure at 0x103ce7750>"
      ]
     },
     "metadata": {},
     "output_type": "display_data"
    }
   ],
   "source": [
    "#for OLS, Lasso and Ridge\n",
    "R2_Ols_IS = []\n",
    "R2_Ols_OS = []\n",
    "R2_Ridge_IS = []\n",
    "R2_Ridge_OS = []\n",
    "R2_Lasso_IS = []\n",
    "R2_Lasso_OS = []\n",
    "RangeR2 = range(1,40) \n",
    "data_train2 = data_train.drop('Unnamed: 0',1)\n",
    "data_test2  = data_test.drop('Unnamed: 0',1)\n",
    "y_test=data_test1['Y']\n",
    "y_train=data_train1['Y']\n",
    "for m in RangeR2:\n",
    "    #OLS\n",
    "    FormOls='Y ~ -1'\n",
    "    for k in range(0,m):\n",
    "        FormOls = FormOls + '+X' + str(k)\n",
    "    lm = smf.ols(formula= FormOls,data = data_train1).fit()\n",
    "    R2_Ols_IS.append(lm.rsquared)\n",
    "    lmy = lm.predict(data_test1)\n",
    "    R2_Ols_OS.append(1 - sum(pow(lmy - data_test1.Y, 2)) / sum(pow(data_test1.Y - np.mean(data_test1.Y), 2)))\n",
    "    \n",
    "    #Ridge\n",
    "    Ridge=linear_model.Ridge(fit_intercept=True,alpha=4000) #try Ridge with an arbitrary regularization parameter lambda=4000\n",
    "    X_train=data_train2.transpose()[0:m+1].transpose()\n",
    "    Ridge.fit(X_train,y_train)\n",
    "    # In the sample:\n",
    "    p_IS=Ridge.predict(X_train)\n",
    "    err_IS=p_IS-y_train\n",
    "    R_2_IS_Ridge=1-np.var(err_IS)/np.var(y_train)\n",
    "    R2_Ridge_IS.append(R_2_IS_Ridge)\n",
    "    X_test=data_test2.transpose()[0:m+1].transpose()\n",
    "    #Out of sample\n",
    "    p_OS=Ridge.predict(X_test)\n",
    "    err_OS=p_OS-y_test\n",
    "    R_2_OS_Ridge=1-np.var(err_OS)/np.var(y_test)\n",
    "    R2_Ridge_OS.append(R_2_OS_Ridge)\n",
    "    \n",
    "    #Lasso\n",
    "    Lasso=linear_model.Lasso(fit_intercept=True,alpha=40) #try Lasso with an arbitrary regularization parameter lambda=40\n",
    "    X_train=data_train2.transpose()[0:m+1].transpose()\n",
    "    Lasso.fit(X_train,y_train)\n",
    "    # In the sample:\n",
    "    p_IS=Lasso.predict(X_train)\n",
    "    err_IS=p_IS-y_train\n",
    "    R_2_IS_Lasso=1-np.var(err_IS)/np.var(y_train)\n",
    "    R2_Lasso_IS.append(R_2_IS_Lasso)\n",
    "\n",
    "    X_test=data_test2.transpose()[0:m+1].transpose()\n",
    "    #Out of sample\n",
    "    p_OS=Lasso.predict(X_test)\n",
    "    err_OS=p_OS-y_test\n",
    "    R_2_OS_Lasso=1-np.var(err_OS)/np.var(y_test)\n",
    "    R2_Lasso_OS.append(R_2_OS_Lasso)\n",
    "%pylab inline\n",
    "pylab.plot(RangeR2,R2_Ols_IS,'g',label='R_squared_OLS_IS')\n",
    "pylab.plot(RangeR2,R2_Lasso_IS,'y',label='R_squared_Lasso_IS')\n",
    "pylab.plot(RangeR2,R2_Ridge_IS,'k',label='R_squard Ridge_IS')\n",
    "\n",
    "pylab.plot(RangeR2,R2_Ols_OS,'b',label='R_squared_OLS_OS')\n",
    "pylab.plot(RangeR2,R2_Lasso_OS,'c',label='R_squared_Lasso_OS')\n",
    "pylab.plot(RangeR2,R2_Ridge_OS,'r',label='R_squard Ridge_OS');\n",
    "\n",
    "pylab.legend(loc='lower right')\n",
    "pylab.xlabel('Number of independent variables')\n",
    "pylab.ylabel('R-squared')\n",
    "pylab.legend(loc='lower left')\n",
    "pylab.figure(figsize=(15,10))\n",
    "pylab.show();"
   ]
  },
  {
   "cell_type": "markdown",
   "metadata": {},
   "source": [
    "# Extracredit (25% of credit to be applied towards this or any other homework)\n",
    "Using a series of 10 random splits (cross-validation) of the training sample into approximately 60% training and 40% validation samples perform the selection of the optimal $\\lambda$ for Ridge and Lasso regression: for each $\\lambda$ of the considered sequence compute an average validation R2 for the 10 splits considered and finally select the $\\lambda$ having the highest value for this average R2. Visualize the dependence of the said average cross-validation R2 over $\\lambda$ for Lasso and Ridge. Report the R2 computed over the test set for the Lasso and Ridge trained over the entire training set with the selected optimal values of $\\lambda$."
   ]
  },
  {
   "cell_type": "code",
   "execution_count": 158,
   "metadata": {
    "collapsed": true
   },
   "outputs": [],
   "source": [
    "#Find the Alpha and report best test performance for Ridge/Lasso.\n",
    "#USING FUNCTION IN CLASS and modifying it as required\n",
    "rnd.seed(2016)\n",
    "def Regularization_fit_lambda(model,X_train,y_train,lambdas,p=0.4,Graph=False, logl=False):\n",
    "    \n",
    "    #model=1 -Ridge, 2-Lasso\n",
    "    #X_train, y_train is training set\n",
    "    #lambdas: a list of lambda values to try\n",
    "    #p: ratio of the validation sample size/ total training size / HERE IS THE SPLIT 60% - 40%\n",
    "    #Graph: plot the graph of R^2 values for different lambda\n",
    "##############################################################################################################################    \n",
    "    \n",
    "    R_2_OS=[] #make a list to store R-squared. We need in end to pick the lambda having the biggest R2.\n",
    "    \n",
    "    validation_index=rnd.sample(list(range(len(X_train))),int(len(X_train)*p) ) #choose some rows for the validation sample    \n",
    "    training_index=[x for x in list(range(len(X_train))) if x not in validation_index] # Use the rest of rows as a training sample\n",
    "    \n",
    "    \n",
    "    X_validation=X_train.loc[validation_index]\n",
    "    y_validation=y_train[validation_index]\n",
    "\n",
    "    X_train0=X_train.loc[training_index]\n",
    "    y_train0=y_train[training_index]\n",
    "    \n",
    "    \n",
    "    for a in lambdas:\n",
    "        if model==1:\n",
    "            RM=linear_model.Ridge(fit_intercept=True, alpha=a)\n",
    "            model_label='Ridge'\n",
    "        else:\n",
    "            RM=linear_model.Lasso(fit_intercept=True, alpha=a)\n",
    "            model_label='Lasso'\n",
    "        RM.fit(X_train0,y_train0)  #fit the regularization model\n",
    "        \n",
    "        y_predict=RM.predict(X_validation) #compute the prediction for the validation sample \n",
    "        err_OS=y_predict-y_validation\n",
    "        R_2_OS_=1-np.var(err_OS)/np.var(y_validation)\n",
    "        R_2_OS.append(R_2_OS_)\n",
    "    \n",
    "#Find the alpha that c.r.t the biggest R^2\n",
    "    best_R2 = max(R_2_OS)\n",
    "    for i in range(len(R_2_OS)):\n",
    "        if R_2_OS[i]==best_R2:\n",
    "            best_lambda=lambdas[i]\n",
    "    #print(\"The alpha we found for Ridge is:{0}\".format(l))\n",
    "    \n",
    "    #Graph\n",
    "    if Graph==True:\n",
    "        pylab.title('IS R-squared vs OS-R-squared for different Lambda')\n",
    "        if logl:\n",
    "            pylab.xlabel('ln(Lambda)')\n",
    "            l=log(lambdas)\n",
    "            bl=log(best_lambda)\n",
    "        else:\n",
    "            pylab.xlabel('Lambda')\n",
    "            l=lambdas\n",
    "            bl=best_lambda\n",
    "        pylab.plot(l,R_2_OS,'b',label=model_label)\n",
    "        pylab.legend(loc='upper right')\n",
    "        pylab.ylabel('R-squared')\n",
    "        pylab.axvline(bl,color='r',linestyle='--')\n",
    "\n",
    "        pylab.show()\n",
    "    #Running over the entire training set\n",
    "    if model==1:\n",
    "        RM=linear_model.Ridge(fit_intercept=True, alpha=best_lambda)\n",
    "        model_label='Ridge'\n",
    "    else:\n",
    "        RM=linear_model.Lasso(fit_intercept=True, alpha=best_lambda)\n",
    "        model_label='Lasso'\n",
    "    RM.fit(X_train,y_train)  #fit the regularization model\n",
    "     \n",
    "    #Test over the test set    \n",
    "    y_predict=RM.predict(X_test) #compute the prediction for the validation sample \n",
    "    err_OS=y_predict-y_test\n",
    "    Rep_R2=1-np.var(err_OS)/np.var(y_test)\n",
    "    \n",
    "    \n",
    "    return Rep_R2,best_lambda"
   ]
  },
  {
   "cell_type": "code",
   "execution_count": 165,
   "metadata": {
    "collapsed": false
   },
   "outputs": [
    {
     "name": "stdout",
     "output_type": "stream",
     "text": [
      "Optimal lambda for Ridge in Split 1 = 9907.08092222, with an R2 = 0.566772058992\n",
      "Optimal lambda for Ridge in Split 2 = 50470.5728029, with an R2 = 0.671817407371\n",
      "Optimal lambda for Ridge in Split 3 = 22361.0386375, with an R2 = 0.617505718802\n",
      "Optimal lambda for Ridge in Split 4 = 12995.5440077, with an R2 = 0.583093477177\n",
      "Optimal lambda for Ridge in Split 5 = 4389.34228371, with an R2 = 0.51926679452\n",
      "Optimal lambda for Ridge in Split 6 = 113915.939252, with an R2 = 0.718575514001\n",
      "Optimal lambda for Ridge in Split 7 = 18660.6228788, with an R2 = 0.605782306937\n",
      "Optimal lambda for Ridge in Split 8 = 1237.19625657, with an R2 = 0.411671917939\n",
      "Optimal lambda for Ridge in Split 9 = 20427.2100198, with an R2 = 0.611615419895\n",
      "Optimal lambda for Ridge in Split 10 = 24477.9413569, with an R2 = 0.623447813419\n"
     ]
    },
    {
     "data": {
      "image/png": "[encoded data removed]",
      "text/plain": [
       "<matplotlib.figure.Figure at 0x10c783510>"
      ]
     },
     "metadata": {},
     "output_type": "display_data"
    }
   ],
   "source": [
    "#select best lambda for Ridge\n",
    "lamRidgeSel = []\n",
    "R2_Ridge = []\n",
    "for j in range(1,11):\n",
    "    lambdas = np.linspace(-5,13,200)\n",
    "    lambdas=[math.exp(i) for i in lambdas]\n",
    "    r_optimal,lambda_r_optimal=Regularization_fit_lambda(1,X_train,y_train,lambdas,p=0.4,Graph=False)\n",
    "    lamRidgeSel.append(lambda_r_optimal)\n",
    "    R2_Ridge.append(r_optimal)\n",
    "    print('Optimal lambda for Ridge in Split {0} = {1}, with an R2 = {2}'.format(j,lambda_r_optimal,r_optimal))\n",
    "pylab.plot(lamRidgeSel,R2_Ridge,'o',label='Ridge')\n",
    "pylab.legend(loc='lower right')\n",
    "pylab.ylabel('R-squared')\n",
    "idx = R2_Ridge.index(max(R2_Ridge))\n",
    "pylab.axvline(lamRidgeSel[idx],color='r',linestyle='--')\n",
    "pylab.show()"
   ]
  },
  {
   "cell_type": "code",
   "execution_count": 166,
   "metadata": {
    "collapsed": false
   },
   "outputs": [
    {
     "name": "stdout",
     "output_type": "stream",
     "text": [
      "Optimal lambda for Lasso in Split 1 = 46.6050331455, with an R2 = 0.665444456567\n",
      "Optimal lambda for Lasso in Split 2 = 0.323634429726, with an R2 = -0.301327619974\n",
      "Optimal lambda for Lasso in Split 3 = 27.7048652953, with an R2 = 0.617505508418\n",
      "Optimal lambda for Lasso in Split 4 = 83.0628865303, with an R2 = 0.719603658255\n",
      "Optimal lambda for Lasso in Split 5 = 43.9881200232, with an R2 = 0.660089572341\n",
      "Optimal lambda for Lasso in Split 6 = 156.847874269, with an R2 = 0.738407371366\n",
      "Optimal lambda for Lasso in Split 7 = 197.637028866, with an R2 = 0.748411462275\n",
      "Optimal lambda for Lasso in Split 8 = 26.1492130267, with an R2 = 0.613585349084\n",
      "Optimal lambda for Lasso in Split 9 = 58.7249290052, with an R2 = 0.687250383446\n",
      "Optimal lambda for Lasso in Split 10 = 176.065180699, with an R2 = 0.743769806219\n"
     ]
    },
    {
     "data": {
      "image/png": "[encoded data removed]",
      "text/plain": [
       "<matplotlib.figure.Figure at 0x10c700a10>"
      ]
     },
     "metadata": {},
     "output_type": "display_data"
    }
   ],
   "source": [
    "#select best lambda for Lasso\n",
    "lamLassoSel = []\n",
    "R2_Lasso = []\n",
    "for j in range(1,11):\n",
    "    lambdas = np.linspace(-5,6.5,200)\n",
    "    lambdas=[math.exp(i) for i in lambdas]\n",
    "    r_optimal,lambda_r_optimal=Regularization_fit_lambda(2,X_train,y_train,lambdas,p=0.4,Graph=False)\n",
    "    lamLassoSel.append(lambda_r_optimal)\n",
    "    R2_Lasso.append(r_optimal)\n",
    "    print('Optimal lambda for Lasso in Split {0} = {1}, with an R2 = {2}'.format(j,lambda_r_optimal,r_optimal))\n",
    "pylab.plot(lamLassoSel,R2_Lasso,'o',label='Lasso')\n",
    "pylab.legend(loc='lower right')\n",
    "pylab.ylabel('R-squared')\n",
    "idx = R2_Lasso.index(max(R2_Lasso))\n",
    "pylab.axvline(lamLassoSel[idx],color='r',linestyle='--')\n",
    "pylab.show()"
   ]
  },
  {
   "cell_type": "code",
   "execution_count": null,
   "metadata": {
    "collapsed": true
   },
   "outputs": [],
   "source": []
  }
 ],
 "metadata": {
  "kernelspec": {
   "display_name": "Python 2",
   "language": "python",
   "name": "python2"
  },
  "language_info": {
   "codemirror_mode": {
    "name": "ipython",
    "version": 2
   },
   "file_extension": ".py",
   "mimetype": "text/x-python",
   "name": "python",
   "nbconvert_exporter": "python",
   "pygments_lexer": "ipython2",
   "version": "2.7.10"
  }
 },
 "nbformat": 4,
 "nbformat_minor": 0
}
