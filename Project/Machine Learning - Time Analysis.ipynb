{
 "cells": [
  {
   "cell_type": "code",
   "execution_count": 1,
   "metadata": {
    "collapsed": true
   },
   "outputs": [],
   "source": [
    "import pandas as pd, numpy as np, datetime as dt"
   ]
  },
  {
   "cell_type": "code",
   "execution_count": 2,
   "metadata": {
    "collapsed": false
   },
   "outputs": [],
   "source": [
    "df = pd.read_csv('311dataset_reduced.csv',header=None)"
   ]
  },
  {
   "cell_type": "code",
   "execution_count": 3,
   "metadata": {
    "collapsed": false
   },
   "outputs": [],
   "source": [
    "df.columns = ['ID','StartDate','CloseDate','Dept','Type','Detail','MoreDetail','Zip','DueDate']"
   ]
  },
  {
   "cell_type": "code",
   "execution_count": 4,
   "metadata": {
    "collapsed": false
   },
   "outputs": [
    {
     "ename": "KeyboardInterrupt",
     "evalue": "",
     "output_type": "error",
     "traceback": [
      "\u001b[0;31m---------------------------------------------------------------------------\u001b[0m",
      "\u001b[0;31mKeyboardInterrupt\u001b[0m                         Traceback (most recent call last)",
      "\u001b[0;32m<ipython-input-4-af15790a494b>\u001b[0m in \u001b[0;36m<module>\u001b[0;34m()\u001b[0m\n\u001b[0;32m----> 1\u001b[0;31m \u001b[0mdf\u001b[0m\u001b[0;34m[\u001b[0m\u001b[0;34m'StartDate'\u001b[0m\u001b[0;34m]\u001b[0m \u001b[0;34m=\u001b[0m \u001b[0mdf\u001b[0m\u001b[0;34m[\u001b[0m\u001b[0;34m'StartDate'\u001b[0m\u001b[0;34m]\u001b[0m\u001b[0;34m.\u001b[0m\u001b[0mstr\u001b[0m\u001b[0;34m.\u001b[0m\u001b[0mreplace\u001b[0m\u001b[0;34m(\u001b[0m\u001b[0;34m\"'\"\u001b[0m\u001b[0;34m,\u001b[0m\u001b[0;34m\"\"\u001b[0m\u001b[0;34m)\u001b[0m\u001b[0;34m\u001b[0m\u001b[0m\n\u001b[0m\u001b[1;32m      2\u001b[0m \u001b[0mdf\u001b[0m\u001b[0;34m[\u001b[0m\u001b[0;34m'CloseDate'\u001b[0m\u001b[0;34m]\u001b[0m \u001b[0;34m=\u001b[0m \u001b[0mdf\u001b[0m\u001b[0;34m[\u001b[0m\u001b[0;34m'CloseDate'\u001b[0m\u001b[0;34m]\u001b[0m\u001b[0;34m.\u001b[0m\u001b[0mstr\u001b[0m\u001b[0;34m.\u001b[0m\u001b[0mreplace\u001b[0m\u001b[0;34m(\u001b[0m\u001b[0;34m\"'\"\u001b[0m\u001b[0;34m,\u001b[0m\u001b[0;34m\"\"\u001b[0m\u001b[0;34m)\u001b[0m\u001b[0;34m\u001b[0m\u001b[0m\n\u001b[1;32m      3\u001b[0m \u001b[0mdf\u001b[0m\u001b[0;34m[\u001b[0m\u001b[0;34m'Dept'\u001b[0m\u001b[0;34m]\u001b[0m \u001b[0;34m=\u001b[0m \u001b[0mdf\u001b[0m\u001b[0;34m[\u001b[0m\u001b[0;34m'Dept'\u001b[0m\u001b[0;34m]\u001b[0m\u001b[0;34m.\u001b[0m\u001b[0mstr\u001b[0m\u001b[0;34m.\u001b[0m\u001b[0mreplace\u001b[0m\u001b[0;34m(\u001b[0m\u001b[0;34m\"'\"\u001b[0m\u001b[0;34m,\u001b[0m\u001b[0;34m\"\"\u001b[0m\u001b[0;34m)\u001b[0m\u001b[0;34m\u001b[0m\u001b[0m\n\u001b[1;32m      4\u001b[0m \u001b[0mdf\u001b[0m\u001b[0;34m[\u001b[0m\u001b[0;34m'Type'\u001b[0m\u001b[0;34m]\u001b[0m \u001b[0;34m=\u001b[0m \u001b[0mdf\u001b[0m\u001b[0;34m[\u001b[0m\u001b[0;34m'Type'\u001b[0m\u001b[0;34m]\u001b[0m\u001b[0;34m.\u001b[0m\u001b[0mstr\u001b[0m\u001b[0;34m.\u001b[0m\u001b[0mreplace\u001b[0m\u001b[0;34m(\u001b[0m\u001b[0;34m\"'\"\u001b[0m\u001b[0;34m,\u001b[0m\u001b[0;34m\"\"\u001b[0m\u001b[0;34m)\u001b[0m\u001b[0;34m\u001b[0m\u001b[0m\n\u001b[1;32m      5\u001b[0m \u001b[0mdf\u001b[0m\u001b[0;34m[\u001b[0m\u001b[0;34m'Detail'\u001b[0m\u001b[0;34m]\u001b[0m \u001b[0;34m=\u001b[0m \u001b[0mdf\u001b[0m\u001b[0;34m[\u001b[0m\u001b[0;34m'Detail'\u001b[0m\u001b[0;34m]\u001b[0m\u001b[0;34m.\u001b[0m\u001b[0mstr\u001b[0m\u001b[0;34m.\u001b[0m\u001b[0mreplace\u001b[0m\u001b[0;34m(\u001b[0m\u001b[0;34m\"'\"\u001b[0m\u001b[0;34m,\u001b[0m\u001b[0;34m\"\"\u001b[0m\u001b[0;34m)\u001b[0m\u001b[0;34m\u001b[0m\u001b[0m\n",
      "\u001b[0;32m/Users/arp504/anaconda/lib/python2.7/site-packages/pandas/core/strings.pyc\u001b[0m in \u001b[0;36mreplace\u001b[0;34m(self, pat, repl, n, case, flags)\u001b[0m\n\u001b[1;32m   1236\u001b[0m     \u001b[0;32mdef\u001b[0m \u001b[0mreplace\u001b[0m\u001b[0;34m(\u001b[0m\u001b[0mself\u001b[0m\u001b[0;34m,\u001b[0m \u001b[0mpat\u001b[0m\u001b[0;34m,\u001b[0m \u001b[0mrepl\u001b[0m\u001b[0;34m,\u001b[0m \u001b[0mn\u001b[0m\u001b[0;34m=\u001b[0m\u001b[0;34m-\u001b[0m\u001b[0;36m1\u001b[0m\u001b[0;34m,\u001b[0m \u001b[0mcase\u001b[0m\u001b[0;34m=\u001b[0m\u001b[0mTrue\u001b[0m\u001b[0;34m,\u001b[0m \u001b[0mflags\u001b[0m\u001b[0;34m=\u001b[0m\u001b[0;36m0\u001b[0m\u001b[0;34m)\u001b[0m\u001b[0;34m:\u001b[0m\u001b[0;34m\u001b[0m\u001b[0m\n\u001b[1;32m   1237\u001b[0m         result = str_replace(self.series, pat, repl, n=n, case=case,\n\u001b[0;32m-> 1238\u001b[0;31m                              flags=flags)\n\u001b[0m\u001b[1;32m   1239\u001b[0m         \u001b[0;32mreturn\u001b[0m \u001b[0mself\u001b[0m\u001b[0;34m.\u001b[0m\u001b[0m_wrap_result\u001b[0m\u001b[0;34m(\u001b[0m\u001b[0mresult\u001b[0m\u001b[0;34m)\u001b[0m\u001b[0;34m\u001b[0m\u001b[0m\n\u001b[1;32m   1240\u001b[0m \u001b[0;34m\u001b[0m\u001b[0m\n",
      "\u001b[0;32m/Users/arp504/anaconda/lib/python2.7/site-packages/pandas/core/strings.pyc\u001b[0m in \u001b[0;36mstr_replace\u001b[0;34m(arr, pat, repl, n, case, flags)\u001b[0m\n\u001b[1;32m    295\u001b[0m         \u001b[0mf\u001b[0m \u001b[0;34m=\u001b[0m \u001b[0;32mlambda\u001b[0m \u001b[0mx\u001b[0m\u001b[0;34m:\u001b[0m \u001b[0mx\u001b[0m\u001b[0;34m.\u001b[0m\u001b[0mreplace\u001b[0m\u001b[0;34m(\u001b[0m\u001b[0mpat\u001b[0m\u001b[0;34m,\u001b[0m \u001b[0mrepl\u001b[0m\u001b[0;34m,\u001b[0m \u001b[0mn\u001b[0m\u001b[0;34m)\u001b[0m\u001b[0;34m\u001b[0m\u001b[0m\n\u001b[1;32m    296\u001b[0m \u001b[0;34m\u001b[0m\u001b[0m\n\u001b[0;32m--> 297\u001b[0;31m     \u001b[0;32mreturn\u001b[0m \u001b[0m_na_map\u001b[0m\u001b[0;34m(\u001b[0m\u001b[0mf\u001b[0m\u001b[0;34m,\u001b[0m \u001b[0marr\u001b[0m\u001b[0;34m)\u001b[0m\u001b[0;34m\u001b[0m\u001b[0m\n\u001b[0m\u001b[1;32m    298\u001b[0m \u001b[0;34m\u001b[0m\u001b[0m\n\u001b[1;32m    299\u001b[0m \u001b[0;34m\u001b[0m\u001b[0m\n",
      "\u001b[0;32m/Users/arp504/anaconda/lib/python2.7/site-packages/pandas/core/strings.pyc\u001b[0m in \u001b[0;36m_na_map\u001b[0;34m(f, arr, na_result, dtype)\u001b[0m\n\u001b[1;32m    119\u001b[0m \u001b[0;32mdef\u001b[0m \u001b[0m_na_map\u001b[0m\u001b[0;34m(\u001b[0m\u001b[0mf\u001b[0m\u001b[0;34m,\u001b[0m \u001b[0marr\u001b[0m\u001b[0;34m,\u001b[0m \u001b[0mna_result\u001b[0m\u001b[0;34m=\u001b[0m\u001b[0mnp\u001b[0m\u001b[0;34m.\u001b[0m\u001b[0mnan\u001b[0m\u001b[0;34m,\u001b[0m \u001b[0mdtype\u001b[0m\u001b[0;34m=\u001b[0m\u001b[0mobject\u001b[0m\u001b[0;34m)\u001b[0m\u001b[0;34m:\u001b[0m\u001b[0;34m\u001b[0m\u001b[0m\n\u001b[1;32m    120\u001b[0m     \u001b[0;31m# should really _check_ for NA\u001b[0m\u001b[0;34m\u001b[0m\u001b[0;34m\u001b[0m\u001b[0m\n\u001b[0;32m--> 121\u001b[0;31m     \u001b[0;32mreturn\u001b[0m \u001b[0m_map\u001b[0m\u001b[0;34m(\u001b[0m\u001b[0mf\u001b[0m\u001b[0;34m,\u001b[0m \u001b[0marr\u001b[0m\u001b[0;34m,\u001b[0m \u001b[0mna_mask\u001b[0m\u001b[0;34m=\u001b[0m\u001b[0mTrue\u001b[0m\u001b[0;34m,\u001b[0m \u001b[0mna_value\u001b[0m\u001b[0;34m=\u001b[0m\u001b[0mna_result\u001b[0m\u001b[0;34m,\u001b[0m \u001b[0mdtype\u001b[0m\u001b[0;34m=\u001b[0m\u001b[0mdtype\u001b[0m\u001b[0;34m)\u001b[0m\u001b[0;34m\u001b[0m\u001b[0m\n\u001b[0m\u001b[1;32m    122\u001b[0m \u001b[0;34m\u001b[0m\u001b[0m\n\u001b[1;32m    123\u001b[0m \u001b[0;34m\u001b[0m\u001b[0m\n",
      "\u001b[0;32m/Users/arp504/anaconda/lib/python2.7/site-packages/pandas/core/strings.pyc\u001b[0m in \u001b[0;36m_map\u001b[0;34m(f, arr, na_mask, na_value, dtype)\u001b[0m\n\u001b[1;32m    135\u001b[0m         \u001b[0mmask\u001b[0m \u001b[0;34m=\u001b[0m \u001b[0misnull\u001b[0m\u001b[0;34m(\u001b[0m\u001b[0marr\u001b[0m\u001b[0;34m)\u001b[0m\u001b[0;34m\u001b[0m\u001b[0m\n\u001b[1;32m    136\u001b[0m         \u001b[0;32mtry\u001b[0m\u001b[0;34m:\u001b[0m\u001b[0;34m\u001b[0m\u001b[0m\n\u001b[0;32m--> 137\u001b[0;31m             \u001b[0mresult\u001b[0m \u001b[0;34m=\u001b[0m \u001b[0mlib\u001b[0m\u001b[0;34m.\u001b[0m\u001b[0mmap_infer_mask\u001b[0m\u001b[0;34m(\u001b[0m\u001b[0marr\u001b[0m\u001b[0;34m,\u001b[0m \u001b[0mf\u001b[0m\u001b[0;34m,\u001b[0m \u001b[0mmask\u001b[0m\u001b[0;34m.\u001b[0m\u001b[0mview\u001b[0m\u001b[0;34m(\u001b[0m\u001b[0mnp\u001b[0m\u001b[0;34m.\u001b[0m\u001b[0muint8\u001b[0m\u001b[0;34m)\u001b[0m\u001b[0;34m)\u001b[0m\u001b[0;34m\u001b[0m\u001b[0m\n\u001b[0m\u001b[1;32m    138\u001b[0m         \u001b[0;32mexcept\u001b[0m \u001b[0;34m(\u001b[0m\u001b[0mTypeError\u001b[0m\u001b[0;34m,\u001b[0m \u001b[0mAttributeError\u001b[0m\u001b[0;34m)\u001b[0m\u001b[0;34m:\u001b[0m\u001b[0;34m\u001b[0m\u001b[0m\n\u001b[1;32m    139\u001b[0m             \u001b[0;32mdef\u001b[0m \u001b[0mg\u001b[0m\u001b[0;34m(\u001b[0m\u001b[0mx\u001b[0m\u001b[0;34m)\u001b[0m\u001b[0;34m:\u001b[0m\u001b[0;34m\u001b[0m\u001b[0m\n",
      "\u001b[0;32mpandas/src/inference.pyx\u001b[0m in \u001b[0;36mpandas.lib.map_infer_mask (pandas/lib.c:58031)\u001b[0;34m()\u001b[0m\n",
      "\u001b[0;32m/Users/arp504/anaconda/lib/python2.7/site-packages/pandas/core/strings.pyc\u001b[0m in \u001b[0;36m<lambda>\u001b[0;34m(x)\u001b[0m\n\u001b[1;32m    293\u001b[0m             \u001b[0;32mreturn\u001b[0m \u001b[0mregex\u001b[0m\u001b[0;34m.\u001b[0m\u001b[0msub\u001b[0m\u001b[0;34m(\u001b[0m\u001b[0mrepl\u001b[0m\u001b[0;34m,\u001b[0m \u001b[0mx\u001b[0m\u001b[0;34m,\u001b[0m \u001b[0mcount\u001b[0m\u001b[0;34m=\u001b[0m\u001b[0mn\u001b[0m\u001b[0;34m)\u001b[0m\u001b[0;34m\u001b[0m\u001b[0m\n\u001b[1;32m    294\u001b[0m     \u001b[0;32melse\u001b[0m\u001b[0;34m:\u001b[0m\u001b[0;34m\u001b[0m\u001b[0m\n\u001b[0;32m--> 295\u001b[0;31m         \u001b[0mf\u001b[0m \u001b[0;34m=\u001b[0m \u001b[0;32mlambda\u001b[0m \u001b[0mx\u001b[0m\u001b[0;34m:\u001b[0m \u001b[0mx\u001b[0m\u001b[0;34m.\u001b[0m\u001b[0mreplace\u001b[0m\u001b[0;34m(\u001b[0m\u001b[0mpat\u001b[0m\u001b[0;34m,\u001b[0m \u001b[0mrepl\u001b[0m\u001b[0;34m,\u001b[0m \u001b[0mn\u001b[0m\u001b[0;34m)\u001b[0m\u001b[0;34m\u001b[0m\u001b[0m\n\u001b[0m\u001b[1;32m    296\u001b[0m \u001b[0;34m\u001b[0m\u001b[0m\n\u001b[1;32m    297\u001b[0m     \u001b[0;32mreturn\u001b[0m \u001b[0m_na_map\u001b[0m\u001b[0;34m(\u001b[0m\u001b[0mf\u001b[0m\u001b[0;34m,\u001b[0m \u001b[0marr\u001b[0m\u001b[0;34m)\u001b[0m\u001b[0;34m\u001b[0m\u001b[0m\n",
      "\u001b[0;31mKeyboardInterrupt\u001b[0m: "
     ]
    }
   ],
   "source": [
    "df['StartDate'] = df['StartDate'].str.replace(\"'\",\"\")\n",
    "df['CloseDate'] = df['CloseDate'].str.replace(\"'\",\"\")\n",
    "df['Dept'] = df['Dept'].str.replace(\"'\",\"\")\n",
    "df['Type'] = df['Type'].str.replace(\"'\",\"\")\n",
    "df['Detail'] = df['Detail'].str.replace(\"'\",\"\")\n",
    "df['MoreDetail'] = df['MoreDetail'].str.replace(\"'\",\"\")\n",
    "df['Zip'] = df['Zip'].str.replace(\"'\",\"\")\n",
    "df['DueDate'] = df['DueDate'].str.replace(\"'\",\"\")\n",
    "df[\"CloseDate\"] = df[\"CloseDate\"].map(str.strip)\n",
    "df[\"DueDate\"] = df[\"DueDate\"].map(str.strip)"
   ]
  },
  {
   "cell_type": "code",
   "execution_count": null,
   "metadata": {
    "collapsed": true
   },
   "outputs": [],
   "source": [
    "df['DueDate'] = df['DueDate'].str.replace(\"\\t\",\"\")"
   ]
  },
  {
   "cell_type": "code",
   "execution_count": null,
   "metadata": {
    "collapsed": false
   },
   "outputs": [],
   "source": [
    "def ConvDate(x):\n",
    "    try:\n",
    "        return dt.datetime.strptime(x, '%m/%d/%Y %I:%M:%S %p')\n",
    "    except:\n",
    "        return pd.NaT\n",
    "df['StartDate'] = df['StartDate'].apply(ConvDate)\n",
    "df['CloseDate'] = df['CloseDate'].apply(ConvDate)\n",
    "df['DueDate'] = df['DueDate'].apply(ConvDate)"
   ]
  },
  {
   "cell_type": "code",
   "execution_count": null,
   "metadata": {
    "collapsed": false
   },
   "outputs": [],
   "source": [
    "df.head()"
   ]
  },
  {
   "cell_type": "code",
   "execution_count": null,
   "metadata": {
    "collapsed": false
   },
   "outputs": [],
   "source": [
    "df.dtypes"
   ]
  },
  {
   "cell_type": "code",
   "execution_count": 9,
   "metadata": {
    "collapsed": true
   },
   "outputs": [],
   "source": [
    "def IsClosed(x):\n",
    "    if pd.isnull(x):\n",
    "        return False\n",
    "    else:\n",
    "        return True"
   ]
  },
  {
   "cell_type": "code",
   "execution_count": 10,
   "metadata": {
    "collapsed": false
   },
   "outputs": [],
   "source": [
    "df['IsClosed'] = df['CloseDate'].apply(IsClosed)"
   ]
  },
  {
   "cell_type": "code",
   "execution_count": 11,
   "metadata": {
    "collapsed": false
   },
   "outputs": [],
   "source": [
    "df['WeekDay'] = df['StartDate'].dt.dayofweek"
   ]
  },
  {
   "cell_type": "code",
   "execution_count": 12,
   "metadata": {
    "collapsed": false
   },
   "outputs": [
    {
     "data": {
      "text/html": [
       "<div>\n",
       "<table border=\"1\" class=\"dataframe\">\n",
       "  <thead>\n",
       "    <tr style=\"text-align: right;\">\n",
       "      <th></th>\n",
       "      <th>ID</th>\n",
       "      <th>StartDate</th>\n",
       "      <th>CloseDate</th>\n",
       "      <th>Dept</th>\n",
       "      <th>Type</th>\n",
       "      <th>Detail</th>\n",
       "      <th>MoreDetail</th>\n",
       "      <th>Zip</th>\n",
       "      <th>DueDate</th>\n",
       "      <th>IsClosed</th>\n",
       "      <th>WeekDay</th>\n",
       "    </tr>\n",
       "  </thead>\n",
       "  <tbody>\n",
       "    <tr>\n",
       "      <th>0</th>\n",
       "      <td>10564222</td>\n",
       "      <td>2015-10-01</td>\n",
       "      <td>2015-10-06</td>\n",
       "      <td>DOHMH</td>\n",
       "      <td>Rodent</td>\n",
       "      <td>Mouse Sighting</td>\n",
       "      <td>1-2 Family Dwelling</td>\n",
       "      <td>10038</td>\n",
       "      <td>2008-03-22 22:39:30</td>\n",
       "      <td>True</td>\n",
       "      <td>3</td>\n",
       "    </tr>\n",
       "    <tr>\n",
       "      <th>1</th>\n",
       "      <td>10693408</td>\n",
       "      <td>2015-10-01</td>\n",
       "      <td>2015-10-06</td>\n",
       "      <td>DOHMH</td>\n",
       "      <td>Rodent</td>\n",
       "      <td>Mouse Sighting</td>\n",
       "      <td>Catch Basin/Sewer</td>\n",
       "      <td>10038</td>\n",
       "      <td>2008-04-10 22:32:27</td>\n",
       "      <td>True</td>\n",
       "      <td>3</td>\n",
       "    </tr>\n",
       "    <tr>\n",
       "      <th>2</th>\n",
       "      <td>10836749</td>\n",
       "      <td>2015-10-01</td>\n",
       "      <td>2015-10-06</td>\n",
       "      <td>DOHMH</td>\n",
       "      <td>Rodent</td>\n",
       "      <td>Signs of Rodents</td>\n",
       "      <td>1-2 Family Dwelling</td>\n",
       "      <td>10038</td>\n",
       "      <td>2008-05-01 02:57:48</td>\n",
       "      <td>True</td>\n",
       "      <td>3</td>\n",
       "    </tr>\n",
       "    <tr>\n",
       "      <th>3</th>\n",
       "      <td>10836967</td>\n",
       "      <td>2015-10-01</td>\n",
       "      <td>2015-10-06</td>\n",
       "      <td>DOHMH</td>\n",
       "      <td>Rodent</td>\n",
       "      <td>Signs of Rodents</td>\n",
       "      <td>1-2 Family Dwelling</td>\n",
       "      <td>10038</td>\n",
       "      <td>2008-05-01 02:34:06</td>\n",
       "      <td>True</td>\n",
       "      <td>3</td>\n",
       "    </tr>\n",
       "    <tr>\n",
       "      <th>4</th>\n",
       "      <td>11051177</td>\n",
       "      <td>2015-10-01</td>\n",
       "      <td>2015-10-06</td>\n",
       "      <td>DOHMH</td>\n",
       "      <td>Rodent</td>\n",
       "      <td>Mouse Sighting</td>\n",
       "      <td>1-2 Family Dwelling</td>\n",
       "      <td>10038</td>\n",
       "      <td>2008-05-30 02:45:22</td>\n",
       "      <td>True</td>\n",
       "      <td>3</td>\n",
       "    </tr>\n",
       "  </tbody>\n",
       "</table>\n",
       "</div>"
      ],
      "text/plain": [
       "         ID  StartDate  CloseDate    Dept     Type             Detail  \\\n",
       "0  10564222 2015-10-01 2015-10-06   DOHMH   Rodent     Mouse Sighting   \n",
       "1  10693408 2015-10-01 2015-10-06   DOHMH   Rodent     Mouse Sighting   \n",
       "2  10836749 2015-10-01 2015-10-06   DOHMH   Rodent   Signs of Rodents   \n",
       "3  10836967 2015-10-01 2015-10-06   DOHMH   Rodent   Signs of Rodents   \n",
       "4  11051177 2015-10-01 2015-10-06   DOHMH   Rodent     Mouse Sighting   \n",
       "\n",
       "             MoreDetail     Zip             DueDate IsClosed  WeekDay  \n",
       "0   1-2 Family Dwelling   10038 2008-03-22 22:39:30     True        3  \n",
       "1     Catch Basin/Sewer   10038 2008-04-10 22:32:27     True        3  \n",
       "2   1-2 Family Dwelling   10038 2008-05-01 02:57:48     True        3  \n",
       "3   1-2 Family Dwelling   10038 2008-05-01 02:34:06     True        3  \n",
       "4   1-2 Family Dwelling   10038 2008-05-30 02:45:22     True        3  "
      ]
     },
     "execution_count": 12,
     "metadata": {},
     "output_type": "execute_result"
    }
   ],
   "source": [
    "df.head()"
   ]
  },
  {
   "cell_type": "code",
   "execution_count": 13,
   "metadata": {
    "collapsed": true
   },
   "outputs": [],
   "source": [
    "df['TimeToClose'] = df['CloseDate'] - df['StartDate']\n",
    "df['TimePredicted'] = df['DueDate'] - df['StartDate']"
   ]
  },
  {
   "cell_type": "code",
   "execution_count": 14,
   "metadata": {
    "collapsed": true
   },
   "outputs": [],
   "source": [
    "df.to_csv('311dataset_reduced_finish.csv')"
   ]
  },
  {
   "cell_type": "code",
   "execution_count": 16,
   "metadata": {
    "collapsed": false
   },
   "outputs": [
    {
     "data": {
      "text/html": [
       "<div>\n",
       "<table border=\"1\" class=\"dataframe\">\n",
       "  <thead>\n",
       "    <tr style=\"text-align: right;\">\n",
       "      <th></th>\n",
       "      <th>ID</th>\n",
       "      <th>StartDate</th>\n",
       "      <th>CloseDate</th>\n",
       "      <th>Dept</th>\n",
       "      <th>Type</th>\n",
       "      <th>Detail</th>\n",
       "      <th>MoreDetail</th>\n",
       "      <th>Zip</th>\n",
       "      <th>DueDate</th>\n",
       "      <th>IsClosed</th>\n",
       "      <th>WeekDay</th>\n",
       "      <th>TimeToClose</th>\n",
       "      <th>TimePredicted</th>\n",
       "    </tr>\n",
       "  </thead>\n",
       "  <tbody>\n",
       "    <tr>\n",
       "      <th>0</th>\n",
       "      <td>10564222</td>\n",
       "      <td>2015-10-01</td>\n",
       "      <td>2015-10-06 00:00:00</td>\n",
       "      <td>DOHMH</td>\n",
       "      <td>Rodent</td>\n",
       "      <td>Mouse Sighting</td>\n",
       "      <td>1-2 Family Dwelling</td>\n",
       "      <td>10038</td>\n",
       "      <td>2008-03-22 22:39:30</td>\n",
       "      <td>True</td>\n",
       "      <td>3</td>\n",
       "      <td>5 days 00:00:00</td>\n",
       "      <td>-2749 days +22:39:30</td>\n",
       "    </tr>\n",
       "    <tr>\n",
       "      <th>1</th>\n",
       "      <td>10693408</td>\n",
       "      <td>2015-10-01</td>\n",
       "      <td>2015-10-06 00:00:00</td>\n",
       "      <td>DOHMH</td>\n",
       "      <td>Rodent</td>\n",
       "      <td>Mouse Sighting</td>\n",
       "      <td>Catch Basin/Sewer</td>\n",
       "      <td>10038</td>\n",
       "      <td>2008-04-10 22:32:27</td>\n",
       "      <td>True</td>\n",
       "      <td>3</td>\n",
       "      <td>5 days 00:00:00</td>\n",
       "      <td>-2730 days +22:32:27</td>\n",
       "    </tr>\n",
       "    <tr>\n",
       "      <th>2</th>\n",
       "      <td>10836749</td>\n",
       "      <td>2015-10-01</td>\n",
       "      <td>2015-10-06 00:00:00</td>\n",
       "      <td>DOHMH</td>\n",
       "      <td>Rodent</td>\n",
       "      <td>Signs of Rodents</td>\n",
       "      <td>1-2 Family Dwelling</td>\n",
       "      <td>10038</td>\n",
       "      <td>2008-05-01 02:57:48</td>\n",
       "      <td>True</td>\n",
       "      <td>3</td>\n",
       "      <td>5 days 00:00:00</td>\n",
       "      <td>-2709 days +02:57:48</td>\n",
       "    </tr>\n",
       "    <tr>\n",
       "      <th>3</th>\n",
       "      <td>10836967</td>\n",
       "      <td>2015-10-01</td>\n",
       "      <td>2015-10-06 00:00:00</td>\n",
       "      <td>DOHMH</td>\n",
       "      <td>Rodent</td>\n",
       "      <td>Signs of Rodents</td>\n",
       "      <td>1-2 Family Dwelling</td>\n",
       "      <td>10038</td>\n",
       "      <td>2008-05-01 02:34:06</td>\n",
       "      <td>True</td>\n",
       "      <td>3</td>\n",
       "      <td>5 days 00:00:00</td>\n",
       "      <td>-2709 days +02:34:06</td>\n",
       "    </tr>\n",
       "    <tr>\n",
       "      <th>4</th>\n",
       "      <td>11051177</td>\n",
       "      <td>2015-10-01</td>\n",
       "      <td>2015-10-06 00:00:00</td>\n",
       "      <td>DOHMH</td>\n",
       "      <td>Rodent</td>\n",
       "      <td>Mouse Sighting</td>\n",
       "      <td>1-2 Family Dwelling</td>\n",
       "      <td>10038</td>\n",
       "      <td>2008-05-30 02:45:22</td>\n",
       "      <td>True</td>\n",
       "      <td>3</td>\n",
       "      <td>5 days 00:00:00</td>\n",
       "      <td>-2680 days +02:45:22</td>\n",
       "    </tr>\n",
       "    <tr>\n",
       "      <th>5</th>\n",
       "      <td>11413576</td>\n",
       "      <td>2015-10-01</td>\n",
       "      <td>2015-10-06 00:00:00</td>\n",
       "      <td>DOHMH</td>\n",
       "      <td>Rodent</td>\n",
       "      <td>Mouse Sighting</td>\n",
       "      <td>3+ Family Mixed Use Building</td>\n",
       "      <td>10038</td>\n",
       "      <td>2008-07-17 23:23:49</td>\n",
       "      <td>True</td>\n",
       "      <td>3</td>\n",
       "      <td>5 days 00:00:00</td>\n",
       "      <td>-2632 days +23:23:49</td>\n",
       "    </tr>\n",
       "    <tr>\n",
       "      <th>6</th>\n",
       "      <td>11463895</td>\n",
       "      <td>2015-10-01</td>\n",
       "      <td>2015-10-16 16:47:55</td>\n",
       "      <td>DOHMH</td>\n",
       "      <td>Rodent</td>\n",
       "      <td>Condition Attracting Rodents</td>\n",
       "      <td>3+ Family Apt. Building</td>\n",
       "      <td>10001</td>\n",
       "      <td>2008-07-24 17:16:55</td>\n",
       "      <td>True</td>\n",
       "      <td>3</td>\n",
       "      <td>15 days 16:47:55</td>\n",
       "      <td>-2625 days +17:16:55</td>\n",
       "    </tr>\n",
       "    <tr>\n",
       "      <th>7</th>\n",
       "      <td>11463896</td>\n",
       "      <td>2015-10-01</td>\n",
       "      <td>NaT</td>\n",
       "      <td>DOHMH</td>\n",
       "      <td>Rodent</td>\n",
       "      <td>Condition Attracting Rodents</td>\n",
       "      <td>1-2 Family Dwelling</td>\n",
       "      <td>11426</td>\n",
       "      <td>2008-07-24 17:18:40</td>\n",
       "      <td>False</td>\n",
       "      <td>3</td>\n",
       "      <td>NaT</td>\n",
       "      <td>-2625 days +17:18:40</td>\n",
       "    </tr>\n",
       "    <tr>\n",
       "      <th>8</th>\n",
       "      <td>11464334</td>\n",
       "      <td>2015-10-01</td>\n",
       "      <td>2015-10-06 00:00:00</td>\n",
       "      <td>DOHMH</td>\n",
       "      <td>Rodent</td>\n",
       "      <td>Condition Attracting Rodents</td>\n",
       "      <td>3+ Family Apt. Building</td>\n",
       "      <td>11372</td>\n",
       "      <td>2008-07-24 16:48:08</td>\n",
       "      <td>True</td>\n",
       "      <td>3</td>\n",
       "      <td>5 days 00:00:00</td>\n",
       "      <td>-2625 days +16:48:08</td>\n",
       "    </tr>\n",
       "    <tr>\n",
       "      <th>9</th>\n",
       "      <td>11464394</td>\n",
       "      <td>2015-10-01</td>\n",
       "      <td>2015-10-16 16:23:21</td>\n",
       "      <td>DOHMH</td>\n",
       "      <td>Rodent</td>\n",
       "      <td>Rat Sighting</td>\n",
       "      <td>Vacant Building</td>\n",
       "      <td>11433</td>\n",
       "      <td>2008-07-24 17:23:17</td>\n",
       "      <td>True</td>\n",
       "      <td>3</td>\n",
       "      <td>15 days 16:23:21</td>\n",
       "      <td>-2625 days +17:23:17</td>\n",
       "    </tr>\n",
       "  </tbody>\n",
       "</table>\n",
       "</div>"
      ],
      "text/plain": [
       "         ID  StartDate           CloseDate    Dept     Type  \\\n",
       "0  10564222 2015-10-01 2015-10-06 00:00:00   DOHMH   Rodent   \n",
       "1  10693408 2015-10-01 2015-10-06 00:00:00   DOHMH   Rodent   \n",
       "2  10836749 2015-10-01 2015-10-06 00:00:00   DOHMH   Rodent   \n",
       "3  10836967 2015-10-01 2015-10-06 00:00:00   DOHMH   Rodent   \n",
       "4  11051177 2015-10-01 2015-10-06 00:00:00   DOHMH   Rodent   \n",
       "5  11413576 2015-10-01 2015-10-06 00:00:00   DOHMH   Rodent   \n",
       "6  11463895 2015-10-01 2015-10-16 16:47:55   DOHMH   Rodent   \n",
       "7  11463896 2015-10-01                 NaT   DOHMH   Rodent   \n",
       "8  11464334 2015-10-01 2015-10-06 00:00:00   DOHMH   Rodent   \n",
       "9  11464394 2015-10-01 2015-10-16 16:23:21   DOHMH   Rodent   \n",
       "\n",
       "                          Detail                     MoreDetail     Zip  \\\n",
       "0                 Mouse Sighting            1-2 Family Dwelling   10038   \n",
       "1                 Mouse Sighting              Catch Basin/Sewer   10038   \n",
       "2               Signs of Rodents            1-2 Family Dwelling   10038   \n",
       "3               Signs of Rodents            1-2 Family Dwelling   10038   \n",
       "4                 Mouse Sighting            1-2 Family Dwelling   10038   \n",
       "5                 Mouse Sighting   3+ Family Mixed Use Building   10038   \n",
       "6   Condition Attracting Rodents        3+ Family Apt. Building   10001   \n",
       "7   Condition Attracting Rodents            1-2 Family Dwelling   11426   \n",
       "8   Condition Attracting Rodents        3+ Family Apt. Building   11372   \n",
       "9                   Rat Sighting                Vacant Building   11433   \n",
       "\n",
       "              DueDate IsClosed  WeekDay      TimeToClose        TimePredicted  \n",
       "0 2008-03-22 22:39:30     True        3  5 days 00:00:00 -2749 days +22:39:30  \n",
       "1 2008-04-10 22:32:27     True        3  5 days 00:00:00 -2730 days +22:32:27  \n",
       "2 2008-05-01 02:57:48     True        3  5 days 00:00:00 -2709 days +02:57:48  \n",
       "3 2008-05-01 02:34:06     True        3  5 days 00:00:00 -2709 days +02:34:06  \n",
       "4 2008-05-30 02:45:22     True        3  5 days 00:00:00 -2680 days +02:45:22  \n",
       "5 2008-07-17 23:23:49     True        3  5 days 00:00:00 -2632 days +23:23:49  \n",
       "6 2008-07-24 17:16:55     True        3 15 days 16:47:55 -2625 days +17:16:55  \n",
       "7 2008-07-24 17:18:40    False        3              NaT -2625 days +17:18:40  \n",
       "8 2008-07-24 16:48:08     True        3  5 days 00:00:00 -2625 days +16:48:08  \n",
       "9 2008-07-24 17:23:17     True        3 15 days 16:23:21 -2625 days +17:23:17  "
      ]
     },
     "execution_count": 16,
     "metadata": {},
     "output_type": "execute_result"
    }
   ],
   "source": [
    "df.head(10)"
   ]
  },
  {
   "cell_type": "code",
   "execution_count": 165,
   "metadata": {
    "collapsed": false
   },
   "outputs": [],
   "source": [
    "df['TimeToClose_f'] = df['TimeToClose'] / timedelta(days=1)\n",
    "df['TimePredicted_f'] = df['TimePredicted'] / timedelta(days=1)"
   ]
  },
  {
   "cell_type": "code",
   "execution_count": 169,
   "metadata": {
    "collapsed": false
   },
   "outputs": [],
   "source": [
    "from datetime import timedelta\n",
    "df1 = df[(~pd.isnull(df['TimeToClose_f'])) & (~pd.isnull(df['TimePredicted_f'])) & (df['TimeToClose_f'] >= 0.0) & (df['TimePredicted_f'] >= 0.0)]"
   ]
  },
  {
   "cell_type": "code",
   "execution_count": 170,
   "metadata": {
    "collapsed": false
   },
   "outputs": [
    {
     "data": {
      "text/html": [
       "<div>\n",
       "<table border=\"1\" class=\"dataframe\">\n",
       "  <thead>\n",
       "    <tr style=\"text-align: right;\">\n",
       "      <th></th>\n",
       "      <th>ID</th>\n",
       "      <th>StartDate</th>\n",
       "      <th>CloseDate</th>\n",
       "      <th>Dept</th>\n",
       "      <th>Type</th>\n",
       "      <th>Detail</th>\n",
       "      <th>MoreDetail</th>\n",
       "      <th>Zip</th>\n",
       "      <th>DueDate</th>\n",
       "      <th>IsClosed</th>\n",
       "      <th>WeekDay</th>\n",
       "      <th>TimeToClose</th>\n",
       "      <th>TimePredicted</th>\n",
       "      <th>TimeToClose_f</th>\n",
       "      <th>TimePredicted_f</th>\n",
       "    </tr>\n",
       "  </thead>\n",
       "  <tbody>\n",
       "    <tr>\n",
       "      <th>43</th>\n",
       "      <td>15626884</td>\n",
       "      <td>2010-01-01 00:16:32</td>\n",
       "      <td>2010-01-01 01:16:16</td>\n",
       "      <td>NYPD</td>\n",
       "      <td>Blocked Driveway</td>\n",
       "      <td>No Access</td>\n",
       "      <td>Street/Sidewalk</td>\n",
       "      <td>11207</td>\n",
       "      <td>2010-01-01 08:16:32</td>\n",
       "      <td>True</td>\n",
       "      <td>4</td>\n",
       "      <td>00:59:44</td>\n",
       "      <td>08:00:00</td>\n",
       "      <td>0.041481</td>\n",
       "      <td>0.333333</td>\n",
       "    </tr>\n",
       "    <tr>\n",
       "      <th>44</th>\n",
       "      <td>15626887</td>\n",
       "      <td>2010-01-01 00:59:56</td>\n",
       "      <td>2010-01-01 04:40:35</td>\n",
       "      <td>NYPD</td>\n",
       "      <td>Blocked Driveway</td>\n",
       "      <td>No Access</td>\n",
       "      <td>Street/Sidewalk</td>\n",
       "      <td>11234</td>\n",
       "      <td>2010-01-01 08:59:56</td>\n",
       "      <td>True</td>\n",
       "      <td>4</td>\n",
       "      <td>03:40:39</td>\n",
       "      <td>08:00:00</td>\n",
       "      <td>0.153229</td>\n",
       "      <td>0.333333</td>\n",
       "    </tr>\n",
       "    <tr>\n",
       "      <th>45</th>\n",
       "      <td>15626888</td>\n",
       "      <td>2010-01-01 01:06:23</td>\n",
       "      <td>2010-01-01 05:58:29</td>\n",
       "      <td>NYPD</td>\n",
       "      <td>Noise - Street/Sidewalk</td>\n",
       "      <td>Loud Music/Party</td>\n",
       "      <td>Street/Sidewalk</td>\n",
       "      <td>10025</td>\n",
       "      <td>2010-01-01 09:06:23</td>\n",
       "      <td>True</td>\n",
       "      <td>4</td>\n",
       "      <td>04:52:06</td>\n",
       "      <td>08:00:00</td>\n",
       "      <td>0.202847</td>\n",
       "      <td>0.333333</td>\n",
       "    </tr>\n",
       "    <tr>\n",
       "      <th>46</th>\n",
       "      <td>15626889</td>\n",
       "      <td>2010-01-01 01:12:15</td>\n",
       "      <td>2010-01-01 03:11:38</td>\n",
       "      <td>NYPD</td>\n",
       "      <td>Noise - Commercial</td>\n",
       "      <td>Loud Music/Party</td>\n",
       "      <td>Club/Bar/Restaurant</td>\n",
       "      <td>11420</td>\n",
       "      <td>2010-01-01 09:12:15</td>\n",
       "      <td>True</td>\n",
       "      <td>4</td>\n",
       "      <td>01:59:23</td>\n",
       "      <td>08:00:00</td>\n",
       "      <td>0.082905</td>\n",
       "      <td>0.333333</td>\n",
       "    </tr>\n",
       "    <tr>\n",
       "      <th>47</th>\n",
       "      <td>15626892</td>\n",
       "      <td>2010-01-01 01:44:00</td>\n",
       "      <td>2010-01-01 02:21:14</td>\n",
       "      <td>NYPD</td>\n",
       "      <td>Blocked Driveway</td>\n",
       "      <td>No Access</td>\n",
       "      <td>Street/Sidewalk</td>\n",
       "      <td>11385</td>\n",
       "      <td>2010-01-01 09:44:00</td>\n",
       "      <td>True</td>\n",
       "      <td>4</td>\n",
       "      <td>00:37:14</td>\n",
       "      <td>08:00:00</td>\n",
       "      <td>0.025856</td>\n",
       "      <td>0.333333</td>\n",
       "    </tr>\n",
       "  </tbody>\n",
       "</table>\n",
       "</div>"
      ],
      "text/plain": [
       "          ID           StartDate           CloseDate   Dept  \\\n",
       "43  15626884 2010-01-01 00:16:32 2010-01-01 01:16:16   NYPD   \n",
       "44  15626887 2010-01-01 00:59:56 2010-01-01 04:40:35   NYPD   \n",
       "45  15626888 2010-01-01 01:06:23 2010-01-01 05:58:29   NYPD   \n",
       "46  15626889 2010-01-01 01:12:15 2010-01-01 03:11:38   NYPD   \n",
       "47  15626892 2010-01-01 01:44:00 2010-01-01 02:21:14   NYPD   \n",
       "\n",
       "                        Type             Detail            MoreDetail     Zip  \\\n",
       "43          Blocked Driveway          No Access       Street/Sidewalk   11207   \n",
       "44          Blocked Driveway          No Access       Street/Sidewalk   11234   \n",
       "45   Noise - Street/Sidewalk   Loud Music/Party       Street/Sidewalk   10025   \n",
       "46        Noise - Commercial   Loud Music/Party   Club/Bar/Restaurant   11420   \n",
       "47          Blocked Driveway          No Access       Street/Sidewalk   11385   \n",
       "\n",
       "               DueDate IsClosed  WeekDay  TimeToClose  TimePredicted  \\\n",
       "43 2010-01-01 08:16:32     True        4     00:59:44       08:00:00   \n",
       "44 2010-01-01 08:59:56     True        4     03:40:39       08:00:00   \n",
       "45 2010-01-01 09:06:23     True        4     04:52:06       08:00:00   \n",
       "46 2010-01-01 09:12:15     True        4     01:59:23       08:00:00   \n",
       "47 2010-01-01 09:44:00     True        4     00:37:14       08:00:00   \n",
       "\n",
       "    TimeToClose_f  TimePredicted_f  \n",
       "43       0.041481         0.333333  \n",
       "44       0.153229         0.333333  \n",
       "45       0.202847         0.333333  \n",
       "46       0.082905         0.333333  \n",
       "47       0.025856         0.333333  "
      ]
     },
     "execution_count": 170,
     "metadata": {},
     "output_type": "execute_result"
    }
   ],
   "source": [
    "df1.head(5)"
   ]
  },
  {
   "cell_type": "code",
   "execution_count": 212,
   "metadata": {
    "collapsed": false
   },
   "outputs": [],
   "source": [
    "df1['DiffPred_f'] = df1['TimePredicted_f'] - df1['TimeToClose_f']\n",
    "df1.to_csv('311dataset_reduced_withdiff.csv')"
   ]
  },
  {
   "cell_type": "code",
   "execution_count": 173,
   "metadata": {
    "collapsed": false
   },
   "outputs": [
    {
     "data": {
      "text/html": [
       "<div>\n",
       "<table border=\"1\" class=\"dataframe\">\n",
       "  <thead>\n",
       "    <tr style=\"text-align: right;\">\n",
       "      <th></th>\n",
       "      <th>ID</th>\n",
       "      <th>StartDate</th>\n",
       "      <th>CloseDate</th>\n",
       "      <th>Dept</th>\n",
       "      <th>Type</th>\n",
       "      <th>Detail</th>\n",
       "      <th>MoreDetail</th>\n",
       "      <th>Zip</th>\n",
       "      <th>DueDate</th>\n",
       "      <th>IsClosed</th>\n",
       "      <th>WeekDay</th>\n",
       "      <th>TimeToClose</th>\n",
       "      <th>TimePredicted</th>\n",
       "      <th>TimeToClose_f</th>\n",
       "      <th>TimePredicted_f</th>\n",
       "      <th>DiffPred_f</th>\n",
       "    </tr>\n",
       "  </thead>\n",
       "  <tbody>\n",
       "    <tr>\n",
       "      <th>43</th>\n",
       "      <td>15626884</td>\n",
       "      <td>2010-01-01 00:16:32</td>\n",
       "      <td>2010-01-01 01:16:16</td>\n",
       "      <td>NYPD</td>\n",
       "      <td>Blocked Driveway</td>\n",
       "      <td>No Access</td>\n",
       "      <td>Street/Sidewalk</td>\n",
       "      <td>11207</td>\n",
       "      <td>2010-01-01 08:16:32</td>\n",
       "      <td>True</td>\n",
       "      <td>4</td>\n",
       "      <td>00:59:44</td>\n",
       "      <td>08:00:00</td>\n",
       "      <td>0.041481</td>\n",
       "      <td>0.333333</td>\n",
       "      <td>0.291852</td>\n",
       "    </tr>\n",
       "    <tr>\n",
       "      <th>44</th>\n",
       "      <td>15626887</td>\n",
       "      <td>2010-01-01 00:59:56</td>\n",
       "      <td>2010-01-01 04:40:35</td>\n",
       "      <td>NYPD</td>\n",
       "      <td>Blocked Driveway</td>\n",
       "      <td>No Access</td>\n",
       "      <td>Street/Sidewalk</td>\n",
       "      <td>11234</td>\n",
       "      <td>2010-01-01 08:59:56</td>\n",
       "      <td>True</td>\n",
       "      <td>4</td>\n",
       "      <td>03:40:39</td>\n",
       "      <td>08:00:00</td>\n",
       "      <td>0.153229</td>\n",
       "      <td>0.333333</td>\n",
       "      <td>0.180104</td>\n",
       "    </tr>\n",
       "    <tr>\n",
       "      <th>45</th>\n",
       "      <td>15626888</td>\n",
       "      <td>2010-01-01 01:06:23</td>\n",
       "      <td>2010-01-01 05:58:29</td>\n",
       "      <td>NYPD</td>\n",
       "      <td>Noise - Street/Sidewalk</td>\n",
       "      <td>Loud Music/Party</td>\n",
       "      <td>Street/Sidewalk</td>\n",
       "      <td>10025</td>\n",
       "      <td>2010-01-01 09:06:23</td>\n",
       "      <td>True</td>\n",
       "      <td>4</td>\n",
       "      <td>04:52:06</td>\n",
       "      <td>08:00:00</td>\n",
       "      <td>0.202847</td>\n",
       "      <td>0.333333</td>\n",
       "      <td>0.130486</td>\n",
       "    </tr>\n",
       "    <tr>\n",
       "      <th>46</th>\n",
       "      <td>15626889</td>\n",
       "      <td>2010-01-01 01:12:15</td>\n",
       "      <td>2010-01-01 03:11:38</td>\n",
       "      <td>NYPD</td>\n",
       "      <td>Noise - Commercial</td>\n",
       "      <td>Loud Music/Party</td>\n",
       "      <td>Club/Bar/Restaurant</td>\n",
       "      <td>11420</td>\n",
       "      <td>2010-01-01 09:12:15</td>\n",
       "      <td>True</td>\n",
       "      <td>4</td>\n",
       "      <td>01:59:23</td>\n",
       "      <td>08:00:00</td>\n",
       "      <td>0.082905</td>\n",
       "      <td>0.333333</td>\n",
       "      <td>0.250428</td>\n",
       "    </tr>\n",
       "    <tr>\n",
       "      <th>47</th>\n",
       "      <td>15626892</td>\n",
       "      <td>2010-01-01 01:44:00</td>\n",
       "      <td>2010-01-01 02:21:14</td>\n",
       "      <td>NYPD</td>\n",
       "      <td>Blocked Driveway</td>\n",
       "      <td>No Access</td>\n",
       "      <td>Street/Sidewalk</td>\n",
       "      <td>11385</td>\n",
       "      <td>2010-01-01 09:44:00</td>\n",
       "      <td>True</td>\n",
       "      <td>4</td>\n",
       "      <td>00:37:14</td>\n",
       "      <td>08:00:00</td>\n",
       "      <td>0.025856</td>\n",
       "      <td>0.333333</td>\n",
       "      <td>0.307477</td>\n",
       "    </tr>\n",
       "  </tbody>\n",
       "</table>\n",
       "</div>"
      ],
      "text/plain": [
       "          ID           StartDate           CloseDate   Dept  \\\n",
       "43  15626884 2010-01-01 00:16:32 2010-01-01 01:16:16   NYPD   \n",
       "44  15626887 2010-01-01 00:59:56 2010-01-01 04:40:35   NYPD   \n",
       "45  15626888 2010-01-01 01:06:23 2010-01-01 05:58:29   NYPD   \n",
       "46  15626889 2010-01-01 01:12:15 2010-01-01 03:11:38   NYPD   \n",
       "47  15626892 2010-01-01 01:44:00 2010-01-01 02:21:14   NYPD   \n",
       "\n",
       "                        Type             Detail            MoreDetail     Zip  \\\n",
       "43          Blocked Driveway          No Access       Street/Sidewalk   11207   \n",
       "44          Blocked Driveway          No Access       Street/Sidewalk   11234   \n",
       "45   Noise - Street/Sidewalk   Loud Music/Party       Street/Sidewalk   10025   \n",
       "46        Noise - Commercial   Loud Music/Party   Club/Bar/Restaurant   11420   \n",
       "47          Blocked Driveway          No Access       Street/Sidewalk   11385   \n",
       "\n",
       "               DueDate IsClosed  WeekDay  TimeToClose  TimePredicted  \\\n",
       "43 2010-01-01 08:16:32     True        4     00:59:44       08:00:00   \n",
       "44 2010-01-01 08:59:56     True        4     03:40:39       08:00:00   \n",
       "45 2010-01-01 09:06:23     True        4     04:52:06       08:00:00   \n",
       "46 2010-01-01 09:12:15     True        4     01:59:23       08:00:00   \n",
       "47 2010-01-01 09:44:00     True        4     00:37:14       08:00:00   \n",
       "\n",
       "    TimeToClose_f  TimePredicted_f  DiffPred_f  \n",
       "43       0.041481         0.333333    0.291852  \n",
       "44       0.153229         0.333333    0.180104  \n",
       "45       0.202847         0.333333    0.130486  \n",
       "46       0.082905         0.333333    0.250428  \n",
       "47       0.025856         0.333333    0.307477  "
      ]
     },
     "execution_count": 173,
     "metadata": {},
     "output_type": "execute_result"
    }
   ],
   "source": [
    "df1.head()"
   ]
  },
  {
   "cell_type": "code",
   "execution_count": 192,
   "metadata": {
    "collapsed": false,
    "scrolled": false
   },
   "outputs": [],
   "source": [
    "f = {'ID':['count'],'TimeToClose_f':['mean'],'TimePredicted_f':['mean'],'DiffPred_f':['mean']}\n",
    "df2 = df1.groupby(['Dept','Type']).agg(f)"
   ]
  },
  {
   "cell_type": "code",
   "execution_count": 196,
   "metadata": {
    "collapsed": false
   },
   "outputs": [],
   "source": [
    "df3 = df2.reset_index()\n",
    "df4 = df3.transpose().reset_index().transpose()\n",
    "df4.columns = ['Dept','Type','TimeToClose_mean','DiffPred_mean','count','TimePredicted_mean']"
   ]
  },
  {
   "cell_type": "code",
   "execution_count": 197,
   "metadata": {
    "collapsed": false
   },
   "outputs": [],
   "source": [
    "df4 = df4[(df4.index != 'level_0') & (df4.index != 'level_1')]"
   ]
  },
  {
   "cell_type": "code",
   "execution_count": 213,
   "metadata": {
    "collapsed": false
   },
   "outputs": [],
   "source": [
    "df4.to_csv('311dataset_reduced_DeptType.csv')"
   ]
  },
  {
   "cell_type": "code",
   "execution_count": 199,
   "metadata": {
    "collapsed": true
   },
   "outputs": [],
   "source": [
    "f = {'ID':['count'],'TimeToClose_f':['mean'],'TimePredicted_f':['mean'],'DiffPred_f':['mean']}\n",
    "df5 = df1.groupby(['Dept']).agg(f)"
   ]
  },
  {
   "cell_type": "code",
   "execution_count": 209,
   "metadata": {
    "collapsed": false
   },
   "outputs": [
    {
     "data": {
      "text/html": [
       "<div>\n",
       "<table border=\"1\" class=\"dataframe\">\n",
       "  <thead>\n",
       "    <tr style=\"text-align: right;\">\n",
       "      <th></th>\n",
       "      <th>Dept</th>\n",
       "      <th>TimePredicted_mean</th>\n",
       "      <th>TimeToClose_mean</th>\n",
       "      <th>count</th>\n",
       "      <th>DiffPred_mean</th>\n",
       "    </tr>\n",
       "  </thead>\n",
       "  <tbody>\n",
       "    <tr>\n",
       "      <th>level_0</th>\n",
       "      <td>Dept</td>\n",
       "      <td>TimePredicted_f</td>\n",
       "      <td>TimeToClose_f</td>\n",
       "      <td>ID</td>\n",
       "      <td>DiffPred_f</td>\n",
       "    </tr>\n",
       "    <tr>\n",
       "      <th>level_1</th>\n",
       "      <td></td>\n",
       "      <td>mean</td>\n",
       "      <td>mean</td>\n",
       "      <td>count</td>\n",
       "      <td>mean</td>\n",
       "    </tr>\n",
       "    <tr>\n",
       "      <th>0</th>\n",
       "      <td>3-1-1</td>\n",
       "      <td>8.271936</td>\n",
       "      <td>3.08513</td>\n",
       "      <td>4</td>\n",
       "      <td>5.186806</td>\n",
       "    </tr>\n",
       "    <tr>\n",
       "      <th>1</th>\n",
       "      <td>ACS</td>\n",
       "      <td>7.949595</td>\n",
       "      <td>0.9500694</td>\n",
       "      <td>1</td>\n",
       "      <td>6.999525</td>\n",
       "    </tr>\n",
       "    <tr>\n",
       "      <th>2</th>\n",
       "      <td>DCA</td>\n",
       "      <td>16.69448</td>\n",
       "      <td>20.0537</td>\n",
       "      <td>129782</td>\n",
       "      <td>-3.359221</td>\n",
       "    </tr>\n",
       "  </tbody>\n",
       "</table>\n",
       "</div>"
      ],
      "text/plain": [
       "           Dept TimePredicted_mean TimeToClose_mean   count DiffPred_mean\n",
       "level_0    Dept    TimePredicted_f    TimeToClose_f      ID    DiffPred_f\n",
       "level_1                       mean             mean   count          mean\n",
       "0         3-1-1           8.271936          3.08513       4      5.186806\n",
       "1           ACS           7.949595        0.9500694       1      6.999525\n",
       "2           DCA           16.69448          20.0537  129782     -3.359221"
      ]
     },
     "execution_count": 209,
     "metadata": {},
     "output_type": "execute_result"
    }
   ],
   "source": [
    "df6 = df5.reset_index()\n",
    "df7 = df6.transpose().reset_index().transpose()\n",
    "df7.columns = ['Dept','TimePredicted_mean','TimeToClose_mean','count','DiffPred_mean']\n",
    "df7.head()"
   ]
  },
  {
   "cell_type": "code",
   "execution_count": 210,
   "metadata": {
    "collapsed": true
   },
   "outputs": [],
   "source": [
    "df7 = df7[(df7.index != 'level_0') & (df7.index != 'level_1')]"
   ]
  },
  {
   "cell_type": "code",
   "execution_count": 214,
   "metadata": {
    "collapsed": false
   },
   "outputs": [],
   "source": [
    "df7.to_csv('311dataset_reduced_Dept.csv')"
   ]
  },
  {
   "cell_type": "code",
   "execution_count": null,
   "metadata": {
    "collapsed": true
   },
   "outputs": [],
   "source": []
  }
 ],
 "metadata": {
  "kernelspec": {
   "display_name": "Python 2",
   "language": "python",
   "name": "python2"
  },
  "language_info": {
   "codemirror_mode": {
    "name": "ipython",
    "version": 2
   },
   "file_extension": ".py",
   "mimetype": "text/x-python",
   "name": "python",
   "nbconvert_exporter": "python",
   "pygments_lexer": "ipython2",
   "version": "2.7.11"
  }
 },
 "nbformat": 4,
 "nbformat_minor": 0
}
