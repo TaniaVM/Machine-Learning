{
 "cells": [
  {
   "cell_type": "code",
   "execution_count": 1,
   "metadata": {
    "collapsed": false
   },
   "outputs": [
    {
     "name": "stdout",
     "output_type": "stream",
     "text": [
      "Populating the interactive namespace from numpy and matplotlib\n"
     ]
    }
   ],
   "source": [
    "import numpy as np\n",
    "import pylab as pl\n",
    "import pandas as pd\n",
    "from sklearn.cross_validation import train_test_split\n",
    "from sklearn.ensemble import RandomForestClassifier\n",
    "from sklearn.tree import DecisionTreeClassifier, export_graphviz\n",
    "from sklearn.metrics import roc_auc_score\n",
    "%pylab inline"
   ]
  },
  {
   "cell_type": "code",
   "execution_count": 2,
   "metadata": {
    "collapsed": false
   },
   "outputs": [],
   "source": [
    "data_stops = pd.read_csv('hw_2_stops.csv')"
   ]
  },
  {
   "cell_type": "code",
   "execution_count": 3,
   "metadata": {
    "collapsed": false
   },
   "outputs": [],
   "source": [
    "days = ['Sunday','Monday','Tuesday','Wednesday','Thursday','Friday','Saturday']\n",
    "months = ['January','February','March','April','May','June','July','August','September','October','November','December']\n",
    "races = ['nan','asian','black','hispanic','other','white','native.american']\n",
    "builds = ['unknown','thin','medium','muscular','heavy']\n",
    "housings = ['neither','housing','transit']\n",
    "\n",
    "data_stops['found.weapon']             = data_stops['found.weapon']            .map(lambda x: 1 if x == True else 0)\n",
    "data_stops['found.gun']                = data_stops['found.gun']               .map(lambda x: 1 if x == True else 0)\n",
    "data_stops['arrested']                 = data_stops['arrested']                .map(lambda x: 1 if x == True else 0)\n",
    "data_stops['suspect.race']             = data_stops['suspect.race']            .map(lambda x: 0 if pd.isnull(x) else races.index(x))\n",
    "data_stops['suspect.build']            = data_stops['suspect.build']           .map(lambda x: builds.index(x))\n",
    "data_stops['suspect.sex']              = data_stops['suspect.sex']             .map(lambda x: 1 if x == 'male' else 0)\n",
    "data_stops['suspect.weight']           = data_stops['suspect.weight']          .map(lambda x: 0 if pd.isnull(x) else 1 if x == 'male' else 0)\n",
    "data_stops['stopped.bc.desc']          = data_stops['stopped.bc.desc']         .map(lambda x: 1 if x == True else 0)\n",
    "data_stops['stopped.bc.violent']       = data_stops['stopped.bc.violent']      .map(lambda x: 1 if x == True else 0)\n",
    "data_stops['stopped.bc.object']        = data_stops['stopped.bc.object']       .map(lambda x: 1 if x == True else 0)\n",
    "data_stops['stopped.bc.other']         = data_stops['stopped.bc.other']        .map(lambda x: 1 if x == True else 0)\n",
    "data_stops['stopped.bc.casing']        = data_stops['stopped.bc.casing']       .map(lambda x: 1 if x == True else 0)\n",
    "data_stops['stopped.bc.lookout']       = data_stops['stopped.bc.lookout']      .map(lambda x: 1 if x == True else 0)\n",
    "data_stops['stopped.bc.drugs']         = data_stops['stopped.bc.drugs']        .map(lambda x: 1 if x == True else 0)\n",
    "data_stops['stopped.bc.clothing']      = data_stops['stopped.bc.clothing']     .map(lambda x: 1 if x == True else 0)\n",
    "data_stops['stopped.bc.furtive']       = data_stops['stopped.bc.furtive']      .map(lambda x: 1 if x == True else 0)\n",
    "data_stops['stopped.bc.bulge']         = data_stops['stopped.bc.bulge']        .map(lambda x: 1 if x == True else 0)\n",
    "data_stops['inside.outside']           = data_stops['inside.outside']          .map(lambda x: 1 if x == True else 0)\n",
    "data_stops['location.housing']         = data_stops['location.housing']        .map(lambda x: housings.index(x))\n",
    "data_stops['officer.uniform']          = data_stops['officer.uniform']         .map(lambda x: 1 if x == True else 0)\n",
    "data_stops['additional.report']        = data_stops['additional.report']       .map(lambda x: 1 if x == True else 0)\n",
    "data_stops['additional.investigation'] = data_stops['additional.investigation'].map(lambda x: 1 if x == True else 0)\n",
    "data_stops['additional.proximity']     = data_stops['additional.proximity']    .map(lambda x: 1 if x == True else 0)\n",
    "data_stops['additional.evasive']       = data_stops['additional.evasive']      .map(lambda x: 1 if x == True else 0)\n",
    "data_stops['additional.associating']   = data_stops['additional.associating']  .map(lambda x: 1 if x == True else 0)\n",
    "data_stops['additional.direction']     = data_stops['additional.direction']    .map(lambda x: 1 if x == True else 0)\n",
    "data_stops['additional.highcrime']     = data_stops['additional.highcrime']    .map(lambda x: 1 if x == True else 0)\n",
    "data_stops['additional.time']          = data_stops['additional.time']         .map(lambda x: 1 if x == True else 0)\n",
    "data_stops['additional.sights']        = data_stops['additional.sights']       .map(lambda x: 1 if x == True else 0)\n",
    "data_stops['additional.other']         = data_stops['additional.other']        .map(lambda x: 1 if x == True else 0)\n",
    "data_stops['radio.run']                = data_stops['radio.run']               .map(lambda x: 1 if x == True else 0)\n",
    "data_stops['day']                      = data_stops['day']                     .map(lambda x: days.index(x))\n",
    "data_stops['date']                     = pd.to_datetime(data_stops['date'], format='%Y-%m-%d')\n",
    "data_stops['month']                    = data_stops['month']                   .map(lambda x: months.index(x) + 1)\n",
    "data_stops['lat']                      = data_stops['lat']                     .map(lambda x: 0 if pd.isnull(x) else x)\n",
    "data_stops['lon']                      = data_stops['lon']                     .map(lambda x: 0 if pd.isnull(x) else x)"
   ]
  },
  {
   "cell_type": "code",
   "execution_count": 4,
   "metadata": {
    "collapsed": false
   },
   "outputs": [
    {
     "data": {
      "text/html": [
       "<div>\n",
       "<table border=\"1\" class=\"dataframe\">\n",
       "  <thead>\n",
       "    <tr style=\"text-align: right;\">\n",
       "      <th></th>\n",
       "      <th>suspected.crime</th>\n",
       "      <th>found.weapon</th>\n",
       "      <th>found.gun</th>\n",
       "      <th>arrested</th>\n",
       "      <th>frisked</th>\n",
       "      <th>searched</th>\n",
       "      <th>summons.issued</th>\n",
       "      <th>found.contraband</th>\n",
       "      <th>force.hands</th>\n",
       "      <th>force.wall</th>\n",
       "      <th>...</th>\n",
       "      <th>additional.time</th>\n",
       "      <th>additional.sights</th>\n",
       "      <th>additional.other</th>\n",
       "      <th>radio.run</th>\n",
       "      <th>day</th>\n",
       "      <th>month</th>\n",
       "      <th>time.period</th>\n",
       "      <th>date</th>\n",
       "      <th>lat</th>\n",
       "      <th>lon</th>\n",
       "    </tr>\n",
       "  </thead>\n",
       "  <tbody>\n",
       "    <tr>\n",
       "      <th>0</th>\n",
       "      <td>burglary</td>\n",
       "      <td>0</td>\n",
       "      <td>0</td>\n",
       "      <td>0</td>\n",
       "      <td>True</td>\n",
       "      <td>False</td>\n",
       "      <td>False</td>\n",
       "      <td>False</td>\n",
       "      <td>True</td>\n",
       "      <td>False</td>\n",
       "      <td>...</td>\n",
       "      <td>1</td>\n",
       "      <td>0</td>\n",
       "      <td>0</td>\n",
       "      <td>0</td>\n",
       "      <td>6</td>\n",
       "      <td>1</td>\n",
       "      <td>1</td>\n",
       "      <td>2011-01-01</td>\n",
       "      <td>40.699548</td>\n",
       "      <td>-73.832452</td>\n",
       "    </tr>\n",
       "    <tr>\n",
       "      <th>1</th>\n",
       "      <td>robbery</td>\n",
       "      <td>0</td>\n",
       "      <td>0</td>\n",
       "      <td>0</td>\n",
       "      <td>True</td>\n",
       "      <td>False</td>\n",
       "      <td>False</td>\n",
       "      <td>False</td>\n",
       "      <td>False</td>\n",
       "      <td>False</td>\n",
       "      <td>...</td>\n",
       "      <td>0</td>\n",
       "      <td>0</td>\n",
       "      <td>0</td>\n",
       "      <td>0</td>\n",
       "      <td>6</td>\n",
       "      <td>1</td>\n",
       "      <td>1</td>\n",
       "      <td>2011-01-01</td>\n",
       "      <td>40.752780</td>\n",
       "      <td>-73.866268</td>\n",
       "    </tr>\n",
       "    <tr>\n",
       "      <th>2</th>\n",
       "      <td>cpw</td>\n",
       "      <td>0</td>\n",
       "      <td>0</td>\n",
       "      <td>0</td>\n",
       "      <td>True</td>\n",
       "      <td>False</td>\n",
       "      <td>False</td>\n",
       "      <td>False</td>\n",
       "      <td>True</td>\n",
       "      <td>True</td>\n",
       "      <td>...</td>\n",
       "      <td>1</td>\n",
       "      <td>0</td>\n",
       "      <td>0</td>\n",
       "      <td>0</td>\n",
       "      <td>6</td>\n",
       "      <td>1</td>\n",
       "      <td>1</td>\n",
       "      <td>2011-01-01</td>\n",
       "      <td>40.587972</td>\n",
       "      <td>-73.807674</td>\n",
       "    </tr>\n",
       "    <tr>\n",
       "      <th>3</th>\n",
       "      <td>cpw</td>\n",
       "      <td>0</td>\n",
       "      <td>0</td>\n",
       "      <td>0</td>\n",
       "      <td>True</td>\n",
       "      <td>False</td>\n",
       "      <td>False</td>\n",
       "      <td>False</td>\n",
       "      <td>True</td>\n",
       "      <td>False</td>\n",
       "      <td>...</td>\n",
       "      <td>1</td>\n",
       "      <td>0</td>\n",
       "      <td>0</td>\n",
       "      <td>0</td>\n",
       "      <td>6</td>\n",
       "      <td>1</td>\n",
       "      <td>1</td>\n",
       "      <td>2011-01-01</td>\n",
       "      <td>40.587972</td>\n",
       "      <td>-73.807674</td>\n",
       "    </tr>\n",
       "    <tr>\n",
       "      <th>4</th>\n",
       "      <td>cpw</td>\n",
       "      <td>0</td>\n",
       "      <td>0</td>\n",
       "      <td>0</td>\n",
       "      <td>True</td>\n",
       "      <td>False</td>\n",
       "      <td>False</td>\n",
       "      <td>False</td>\n",
       "      <td>True</td>\n",
       "      <td>False</td>\n",
       "      <td>...</td>\n",
       "      <td>1</td>\n",
       "      <td>0</td>\n",
       "      <td>0</td>\n",
       "      <td>0</td>\n",
       "      <td>6</td>\n",
       "      <td>1</td>\n",
       "      <td>1</td>\n",
       "      <td>2011-01-01</td>\n",
       "      <td>40.587972</td>\n",
       "      <td>-73.807674</td>\n",
       "    </tr>\n",
       "  </tbody>\n",
       "</table>\n",
       "<p>5 rows × 55 columns</p>\n",
       "</div>"
      ],
      "text/plain": [
       "  suspected.crime  found.weapon  found.gun  arrested frisked searched  \\\n",
       "0        burglary             0          0         0    True    False   \n",
       "1         robbery             0          0         0    True    False   \n",
       "2             cpw             0          0         0    True    False   \n",
       "3             cpw             0          0         0    True    False   \n",
       "4             cpw             0          0         0    True    False   \n",
       "\n",
       "  summons.issued found.contraband force.hands force.wall    ...      \\\n",
       "0          False            False        True      False    ...       \n",
       "1          False            False       False      False    ...       \n",
       "2          False            False        True       True    ...       \n",
       "3          False            False        True      False    ...       \n",
       "4          False            False        True      False    ...       \n",
       "\n",
       "  additional.time additional.sights additional.other radio.run day month  \\\n",
       "0               1                 0                0         0   6     1   \n",
       "1               0                 0                0         0   6     1   \n",
       "2               1                 0                0         0   6     1   \n",
       "3               1                 0                0         0   6     1   \n",
       "4               1                 0                0         0   6     1   \n",
       "\n",
       "  time.period       date        lat        lon  \n",
       "0           1 2011-01-01  40.699548 -73.832452  \n",
       "1           1 2011-01-01  40.752780 -73.866268  \n",
       "2           1 2011-01-01  40.587972 -73.807674  \n",
       "3           1 2011-01-01  40.587972 -73.807674  \n",
       "4           1 2011-01-01  40.587972 -73.807674  \n",
       "\n",
       "[5 rows x 55 columns]"
      ]
     },
     "execution_count": 4,
     "metadata": {},
     "output_type": "execute_result"
    }
   ],
   "source": [
    "data_stops.head()"
   ]
  },
  {
   "cell_type": "code",
   "execution_count": 5,
   "metadata": {
    "collapsed": false
   },
   "outputs": [],
   "source": [
    "X = data_stops[['suspect.race','suspect.age','suspect.build','suspect.sex','suspect.height','suspect.weight','precinct',\n",
    "         'inside.outside','location.housing','observation.period','officer.uniform','radio.run','day','month',\n",
    "         'time.period','lat','lon']]"
   ]
  },
  {
   "cell_type": "markdown",
   "metadata": {},
   "source": [
    "## Assignment 1"
   ]
  },
  {
   "cell_type": "code",
   "execution_count": 6,
   "metadata": {
    "collapsed": false
   },
   "outputs": [],
   "source": [
    "#b\n",
    "Y = data_stops['arrested']\n",
    "#a\n",
    "X_train, X_test, Y_train, Y_test = train_test_split(X, Y, test_size=0.25, random_state=1)"
   ]
  },
  {
   "cell_type": "code",
   "execution_count": 7,
   "metadata": {
    "collapsed": false
   },
   "outputs": [],
   "source": [
    "rfc = RandomForestClassifier(n_jobs=-1, n_estimators=1000)\n",
    "rfc_fit = rfc.fit(X_train, Y_train)"
   ]
  },
  {
   "cell_type": "code",
   "execution_count": 8,
   "metadata": {
    "collapsed": false
   },
   "outputs": [
    {
     "name": "stdout",
     "output_type": "stream",
     "text": [
      "Train Set Accuracy : 99.99%\n",
      "Test Set Accuracy : 94.30%\n"
     ]
    }
   ],
   "source": [
    "Y_pred = rfc.predict(X_train)\n",
    "print \"Train Set Accuracy : %0.2f%%\" % (100.0*sum(Y_train==Y_pred)/len(Y_pred))\n",
    "Y_pred = rfc.predict(X_test)\n",
    "print \"Test Set Accuracy : %0.2f%%\" % (100.0*sum(Y_test==Y_pred)/len(Y_pred))"
   ]
  },
  {
   "cell_type": "code",
   "execution_count": 9,
   "metadata": {
    "collapsed": false
   },
   "outputs": [
    {
     "data": {
      "image/png": "[encoded data removed]",
      "text/plain": [
       "<matplotlib.figure.Figure at 0x1136ce550>"
      ]
     },
     "metadata": {},
     "output_type": "display_data"
    }
   ],
   "source": [
    "exp1 = pd.DataFrame({\"race\":list(X_test[\"suspect.race\"]),\"arrested_pred\":list(Y_pred),\"arrested_target\":list(Y_test)})\n",
    "exp11 = exp1.groupby(['race']).agg(mean)\n",
    "exp11.columns = (\"Predicted\",\"Target\")\n",
    "racescol = list(['grey','yellow','black','peru','blue','white','indianred'])\n",
    "plt.figure(figsize=(7,7))\n",
    "ax=[]\n",
    "for i in range(0,len(racescol)):\n",
    "    ax1 = plt.scatter(exp11.Predicted[i],exp11.Target[i],c=racescol[i],s=75)\n",
    "    ax.append(ax1)\n",
    "plt.xlabel(\"Predicted Average\",fontsize=16);\n",
    "plt.ylabel(\"Target Average\",fontsize=16);\n",
    "plt.title(\"Suspect Race\",fontsize=20);\n",
    "plt.legend(ax,races, scatterpoints = 1);"
   ]
  },
  {
   "cell_type": "code",
   "execution_count": 10,
   "metadata": {
    "collapsed": false
   },
   "outputs": [
    {
     "data": {
      "image/png": "[encoded data removed]",
      "text/plain": [
       "<matplotlib.figure.Figure at 0x1122c6690>"
      ]
     },
     "metadata": {},
     "output_type": "display_data"
    }
   ],
   "source": [
    "exp2 = pd.DataFrame({\"build\":list(X_test[\"suspect.build\"]),\"arrested_pred\":list(Y_pred),\"arrested_target\":list(Y_test)})\n",
    "exp21 = exp2.groupby(['build']).agg(mean)\n",
    "exp21.columns = (\"Predicted\",\"Target\")\n",
    "buildscol = list(['gray','white','green','orange','blue'])\n",
    "plt.figure(figsize=(7,7));\n",
    "ax=[]\n",
    "for i in range(0,len(buildscol)):\n",
    "    ax1 = plt.scatter(exp21.Predicted[i],exp21.Target[i],c=buildscol[i],s=75)\n",
    "    ax.append(ax1)\n",
    "plt.xlabel(\"Predicted Average\",fontsize=16);\n",
    "plt.ylabel(\"Target Average\",fontsize=16);\n",
    "plt.title(\"Suspect Build\",fontsize=20);\n",
    "plt.legend(ax,builds, scatterpoints = 1);\n"
   ]
  },
  {
   "cell_type": "markdown",
   "metadata": {},
   "source": [
    "I use the train_test_split to_split the data into 75% for train and 25% for test. Then I used arrested as the target variable. I trained the random forest on 1000 trees (It takes a long time). For Suspect Race and Suspect Build I plotted the average predicted values with the average target values.  "
   ]
  },
  {
   "cell_type": "markdown",
   "metadata": {},
   "source": [
    "## Assignment 2"
   ]
  },
  {
   "cell_type": "code",
   "execution_count": 13,
   "metadata": {
    "collapsed": false
   },
   "outputs": [
    {
     "data": {
      "text/plain": [
       "<matplotlib.text.Text at 0x11225a410>"
      ]
     },
     "execution_count": 13,
     "metadata": {},
     "output_type": "execute_result"
    },
    {
     "data": {
      "image/png": "[encoded data removed]",
      "text/plain": [
       "<matplotlib.figure.Figure at 0x1136a7050>"
      ]
     },
     "metadata": {},
     "output_type": "display_data"
    }
   ],
   "source": [
    "yplot = []\n",
    "xplot = range(1,100,5)\n",
    "for i in xplot:\n",
    "    dtc = DecisionTreeClassifier(max_depth=i)\n",
    "    dtc = dtc.fit(X_train, Y_train)\n",
    "    yplot.append(roc_auc_score(Y_test, dtc.predict(X_test)))\n",
    "    \n",
    "plt.figure(figsize(10,10))\n",
    "plt.plot(xplot,yplot)\n",
    "plt.xlabel('Tree Maximum Depth',fontsize=16)\n",
    "plt.ylabel('AUC Score',fontsize=16)\n",
    "plt.title('AUC Score vs. Tree Depth',fontsize=20)"
   ]
  },
  {
   "cell_type": "code",
   "execution_count": 14,
   "metadata": {
    "collapsed": true
   },
   "outputs": [],
   "source": [
    "dtc = DecisionTreeClassifier(max_depth=20)\n",
    "dtc = dtc.fit(X_train, Y_train)"
   ]
  },
  {
   "cell_type": "code",
   "execution_count": 15,
   "metadata": {
    "collapsed": false
   },
   "outputs": [],
   "source": [
    "export_graphviz(dtc, feature_names=X.columns)"
   ]
  },
  {
   "cell_type": "markdown",
   "metadata": {},
   "source": [
    "Using same split of data as in the previous assignment, I used max_depth as the simplicity variable. Then I ploted the AUC score vs. the depth for from 1-100. Finally I visualzed a decision tree with max_depth=20 using export_graphviz as suggested attached as a dot file together with this file."
   ]
  },
  {
   "cell_type": "code",
   "execution_count": null,
   "metadata": {
    "collapsed": true
   },
   "outputs": [],
   "source": []
  }
 ],
 "metadata": {
  "kernelspec": {
   "display_name": "Python 2",
   "language": "python",
   "name": "python2"
  },
  "language_info": {
   "codemirror_mode": {
    "name": "ipython",
    "version": 2
   },
   "file_extension": ".py",
   "mimetype": "text/x-python",
   "name": "python",
   "nbconvert_exporter": "python",
   "pygments_lexer": "ipython2",
   "version": "2.7.11"
  }
 },
 "nbformat": 4,
 "nbformat_minor": 0
}
